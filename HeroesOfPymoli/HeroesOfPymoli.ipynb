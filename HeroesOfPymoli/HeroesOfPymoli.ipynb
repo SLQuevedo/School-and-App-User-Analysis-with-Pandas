{
 "cells": [
  {
   "cell_type": "markdown",
   "metadata": {},
   "source": [
    "### Note\n",
    "* Instructions have been included for each segment. You do not have to follow them exactly, but they are included to help you think through the steps."
   ]
  },
  {
   "cell_type": "code",
   "execution_count": 2,
   "metadata": {},
   "outputs": [],
   "source": [
    "# Dependencies and Setup\n",
    "import pandas as pd\n",
    "\n",
    "# File to Load (Remember to Change These)\n",
    "file_to_load = \"Resources/purchase_data.csv\"\n",
    "\n",
    "# Read Purchasing File and store into Pandas data frame\n",
    "purchase_data = pd.read_csv(file_to_load)"
   ]
  },
  {
   "cell_type": "markdown",
   "metadata": {},
   "source": [
    "## Player Count"
   ]
  },
  {
   "cell_type": "markdown",
   "metadata": {},
   "source": [
    "* Display the total number of players\n"
   ]
  },
  {
   "cell_type": "code",
   "execution_count": 3,
   "metadata": {},
   "outputs": [
    {
     "data": {
      "text/html": [
       "<div>\n",
       "<style scoped>\n",
       "    .dataframe tbody tr th:only-of-type {\n",
       "        vertical-align: middle;\n",
       "    }\n",
       "\n",
       "    .dataframe tbody tr th {\n",
       "        vertical-align: top;\n",
       "    }\n",
       "\n",
       "    .dataframe thead th {\n",
       "        text-align: right;\n",
       "    }\n",
       "</style>\n",
       "<table border=\"1\" class=\"dataframe\">\n",
       "  <thead>\n",
       "    <tr style=\"text-align: right;\">\n",
       "      <th></th>\n",
       "      <th>Purchase ID</th>\n",
       "      <th>SN</th>\n",
       "      <th>Age</th>\n",
       "      <th>Gender</th>\n",
       "      <th>Item ID</th>\n",
       "      <th>Item Name</th>\n",
       "      <th>Price</th>\n",
       "    </tr>\n",
       "  </thead>\n",
       "  <tbody>\n",
       "    <tr>\n",
       "      <th>0</th>\n",
       "      <td>0</td>\n",
       "      <td>Lisim78</td>\n",
       "      <td>20</td>\n",
       "      <td>Male</td>\n",
       "      <td>108</td>\n",
       "      <td>Extraction, Quickblade Of Trembling Hands</td>\n",
       "      <td>3.53</td>\n",
       "    </tr>\n",
       "    <tr>\n",
       "      <th>1</th>\n",
       "      <td>1</td>\n",
       "      <td>Lisovynya38</td>\n",
       "      <td>40</td>\n",
       "      <td>Male</td>\n",
       "      <td>143</td>\n",
       "      <td>Frenzied Scimitar</td>\n",
       "      <td>1.56</td>\n",
       "    </tr>\n",
       "    <tr>\n",
       "      <th>2</th>\n",
       "      <td>2</td>\n",
       "      <td>Ithergue48</td>\n",
       "      <td>24</td>\n",
       "      <td>Male</td>\n",
       "      <td>92</td>\n",
       "      <td>Final Critic</td>\n",
       "      <td>4.88</td>\n",
       "    </tr>\n",
       "    <tr>\n",
       "      <th>3</th>\n",
       "      <td>3</td>\n",
       "      <td>Chamassasya86</td>\n",
       "      <td>24</td>\n",
       "      <td>Male</td>\n",
       "      <td>100</td>\n",
       "      <td>Blindscythe</td>\n",
       "      <td>3.27</td>\n",
       "    </tr>\n",
       "    <tr>\n",
       "      <th>4</th>\n",
       "      <td>4</td>\n",
       "      <td>Iskosia90</td>\n",
       "      <td>23</td>\n",
       "      <td>Male</td>\n",
       "      <td>131</td>\n",
       "      <td>Fury</td>\n",
       "      <td>1.44</td>\n",
       "    </tr>\n",
       "  </tbody>\n",
       "</table>\n",
       "</div>"
      ],
      "text/plain": [
       "   Purchase ID             SN  Age Gender  Item ID  \\\n",
       "0            0        Lisim78   20   Male      108   \n",
       "1            1    Lisovynya38   40   Male      143   \n",
       "2            2     Ithergue48   24   Male       92   \n",
       "3            3  Chamassasya86   24   Male      100   \n",
       "4            4      Iskosia90   23   Male      131   \n",
       "\n",
       "                                   Item Name  Price  \n",
       "0  Extraction, Quickblade Of Trembling Hands   3.53  \n",
       "1                          Frenzied Scimitar   1.56  \n",
       "2                               Final Critic   4.88  \n",
       "3                                Blindscythe   3.27  \n",
       "4                                       Fury   1.44  "
      ]
     },
     "execution_count": 3,
     "metadata": {},
     "output_type": "execute_result"
    }
   ],
   "source": [
    "purchase_data.head()"
   ]
  },
  {
   "cell_type": "code",
   "execution_count": 4,
   "metadata": {},
   "outputs": [],
   "source": [
    "#using nunique I find the number of unique screen names \n",
    "Total_Players = purchase_data.nunique()[\"SN\"]"
   ]
  },
  {
   "cell_type": "code",
   "execution_count": 5,
   "metadata": {},
   "outputs": [
    {
     "data": {
      "text/html": [
       "<div>\n",
       "<style scoped>\n",
       "    .dataframe tbody tr th:only-of-type {\n",
       "        vertical-align: middle;\n",
       "    }\n",
       "\n",
       "    .dataframe tbody tr th {\n",
       "        vertical-align: top;\n",
       "    }\n",
       "\n",
       "    .dataframe thead th {\n",
       "        text-align: right;\n",
       "    }\n",
       "</style>\n",
       "<table border=\"1\" class=\"dataframe\">\n",
       "  <thead>\n",
       "    <tr style=\"text-align: right;\">\n",
       "      <th></th>\n",
       "      <th>Total Players</th>\n",
       "    </tr>\n",
       "  </thead>\n",
       "  <tbody>\n",
       "    <tr>\n",
       "      <th>0</th>\n",
       "      <td>576</td>\n",
       "    </tr>\n",
       "  </tbody>\n",
       "</table>\n",
       "</div>"
      ],
      "text/plain": [
       "   Total Players\n",
       "0            576"
      ]
     },
     "execution_count": 5,
     "metadata": {},
     "output_type": "execute_result"
    }
   ],
   "source": [
    "#set up our dataframe\n",
    "Total_Players_df = pd.DataFrame({\"Total Players\": Total_Players}, index = [0])\n",
    "\n",
    "#prints our dataframe\n",
    "Total_Players_df"
   ]
  },
  {
   "cell_type": "markdown",
   "metadata": {},
   "source": [
    "## Purchasing Analysis (Total)"
   ]
  },
  {
   "cell_type": "markdown",
   "metadata": {},
   "source": [
    "* Run basic calculations to obtain number of unique items, average price, etc.\n",
    "\n",
    "\n",
    "* Create a summary data frame to hold the results\n",
    "\n",
    "\n",
    "* Optional: give the displayed data cleaner formatting\n",
    "\n",
    "\n",
    "* Display the summary data frame\n"
   ]
  },
  {
   "cell_type": "code",
   "execution_count": 6,
   "metadata": {},
   "outputs": [],
   "source": [
    "#using nunique I find the unique number of items\n",
    "Unique_Items = purchase_data.nunique()[\"Item Name\"]"
   ]
  },
  {
   "cell_type": "code",
   "execution_count": 7,
   "metadata": {},
   "outputs": [],
   "source": [
    "#finds average price for items\n",
    "Avg_Price = purchase_data[\"Price\"].mean()"
   ]
  },
  {
   "cell_type": "code",
   "execution_count": 8,
   "metadata": {},
   "outputs": [],
   "source": [
    "#finds the number of purchases\n",
    "Num_of_Purchases = purchase_data[\"Purchase ID\"].count()"
   ]
  },
  {
   "cell_type": "code",
   "execution_count": 9,
   "metadata": {},
   "outputs": [],
   "source": [
    "#finds the total revenue \n",
    "Total_Revenue = purchase_data[\"Price\"].sum()"
   ]
  },
  {
   "cell_type": "code",
   "execution_count": 10,
   "metadata": {},
   "outputs": [
    {
     "data": {
      "text/html": [
       "<style type=\"text/css\">\n",
       "</style>\n",
       "<table id=\"T_6a549\">\n",
       "  <thead>\n",
       "    <tr>\n",
       "      <th class=\"blank level0\" >&nbsp;</th>\n",
       "      <th id=\"T_6a549_level0_col0\" class=\"col_heading level0 col0\" >Number of Unique Items</th>\n",
       "      <th id=\"T_6a549_level0_col1\" class=\"col_heading level0 col1\" >Average Price</th>\n",
       "      <th id=\"T_6a549_level0_col2\" class=\"col_heading level0 col2\" >Number of Purchases</th>\n",
       "      <th id=\"T_6a549_level0_col3\" class=\"col_heading level0 col3\" >Total Revenue</th>\n",
       "    </tr>\n",
       "  </thead>\n",
       "  <tbody>\n",
       "    <tr>\n",
       "      <th id=\"T_6a549_level0_row0\" class=\"row_heading level0 row0\" >0</th>\n",
       "      <td id=\"T_6a549_row0_col0\" class=\"data row0 col0\" >179</td>\n",
       "      <td id=\"T_6a549_row0_col1\" class=\"data row0 col1\" >$3.05</td>\n",
       "      <td id=\"T_6a549_row0_col2\" class=\"data row0 col2\" >780</td>\n",
       "      <td id=\"T_6a549_row0_col3\" class=\"data row0 col3\" >$2,379.77</td>\n",
       "    </tr>\n",
       "  </tbody>\n",
       "</table>\n"
      ],
      "text/plain": [
       "<pandas.io.formats.style.Styler at 0x14a83b8b790>"
      ]
     },
     "execution_count": 10,
     "metadata": {},
     "output_type": "execute_result"
    }
   ],
   "source": [
    "#creates our dataframe\n",
    "Purchase_Total = pd.DataFrame({\"Number of Unique Items\": Unique_Items, \"Average Price\": Avg_Price, \n",
    "                               \"Number of Purchases\": Num_of_Purchases, \"Total Revenue\": Total_Revenue}, index = [0])\n",
    "\n",
    "#formats our dataframe\n",
    "Purchase_Total.style.format({\"Number of Unique Items\": \"{:}\", \"Average Price\": \"${:.2f}\", \n",
    "                               \"Number of Purchases\": \"{:}\", \"Total Revenue\": \"${:,.2f}\"})"
   ]
  },
  {
   "cell_type": "markdown",
   "metadata": {},
   "source": [
    "## Gender Demographics"
   ]
  },
  {
   "cell_type": "markdown",
   "metadata": {},
   "source": [
    "* Percentage and Count of Male Players\n",
    "\n",
    "\n",
    "* Percentage and Count of Female Players\n",
    "\n",
    "\n",
    "* Percentage and Count of Other / Non-Disclosed\n",
    "\n",
    "\n"
   ]
  },
  {
   "cell_type": "code",
   "execution_count": 11,
   "metadata": {},
   "outputs": [],
   "source": [
    "Gender_Demo = purchase_data.groupby(\"Gender\")"
   ]
  },
  {
   "cell_type": "code",
   "execution_count": 12,
   "metadata": {},
   "outputs": [],
   "source": [
    "#counts how many players we have\n",
    "#in particular we are interested in the \"SN\" column to find how many unique players there are\n",
    "gender_count = Gender_Demo.nunique()[\"SN\"]"
   ]
  },
  {
   "cell_type": "code",
   "execution_count": 13,
   "metadata": {},
   "outputs": [],
   "source": [
    "#finds the percent of each gender based off the total amount players\n",
    "perc_gender = gender_count/Total_Players*100"
   ]
  },
  {
   "cell_type": "code",
   "execution_count": 14,
   "metadata": {},
   "outputs": [
    {
     "data": {
      "text/html": [
       "<style type=\"text/css\">\n",
       "</style>\n",
       "<table id=\"T_2d35c\">\n",
       "  <thead>\n",
       "    <tr>\n",
       "      <th class=\"blank level0\" >&nbsp;</th>\n",
       "      <th id=\"T_2d35c_level0_col0\" class=\"col_heading level0 col0\" >Total Count</th>\n",
       "      <th id=\"T_2d35c_level0_col1\" class=\"col_heading level0 col1\" >Percentage of Players</th>\n",
       "    </tr>\n",
       "  </thead>\n",
       "  <tbody>\n",
       "    <tr>\n",
       "      <th id=\"T_2d35c_level0_row0\" class=\"row_heading level0 row0\" >Male</th>\n",
       "      <td id=\"T_2d35c_row0_col0\" class=\"data row0 col0\" >484</td>\n",
       "      <td id=\"T_2d35c_row0_col1\" class=\"data row0 col1\" >84.03%</td>\n",
       "    </tr>\n",
       "    <tr>\n",
       "      <th id=\"T_2d35c_level0_row1\" class=\"row_heading level0 row1\" >Female</th>\n",
       "      <td id=\"T_2d35c_row1_col0\" class=\"data row1 col0\" >81</td>\n",
       "      <td id=\"T_2d35c_row1_col1\" class=\"data row1 col1\" >14.06%</td>\n",
       "    </tr>\n",
       "    <tr>\n",
       "      <th id=\"T_2d35c_level0_row2\" class=\"row_heading level0 row2\" >Other / Non-Disclosed</th>\n",
       "      <td id=\"T_2d35c_row2_col0\" class=\"data row2 col0\" >11</td>\n",
       "      <td id=\"T_2d35c_row2_col1\" class=\"data row2 col1\" >1.91%</td>\n",
       "    </tr>\n",
       "  </tbody>\n",
       "</table>\n"
      ],
      "text/plain": [
       "<pandas.io.formats.style.Styler at 0x14a859b31c0>"
      ]
     },
     "execution_count": 14,
     "metadata": {},
     "output_type": "execute_result"
    }
   ],
   "source": [
    "#creates our dataframe\n",
    "#we use the \"SN\" columns because we want unique players\n",
    "Gender_Summary = pd.DataFrame({\"Total Count\": gender_count, \"Percentage of Players\": perc_gender})\n",
    "\n",
    "#removes the index in the corner\n",
    "Gender_Summary.index.name = None\n",
    "\n",
    "#sorts and formats our dataframe\n",
    "Gender_Summary.sort_values([\"Total Count\"], ascending = False).style.format({\"Percentage of Players\":\"{:.2f}%\"})"
   ]
  },
  {
   "cell_type": "markdown",
   "metadata": {},
   "source": [
    "\n",
    "## Purchasing Analysis (Gender)"
   ]
  },
  {
   "cell_type": "markdown",
   "metadata": {},
   "source": [
    "* Run basic calculations to obtain purchase count, avg. purchase price, avg. purchase total per person etc. by gender\n",
    "\n",
    "\n",
    "\n",
    "\n",
    "* Create a summary data frame to hold the results\n",
    "\n",
    "\n",
    "* Optional: give the displayed data cleaner formatting\n",
    "\n",
    "\n",
    "* Display the summary data frame"
   ]
  },
  {
   "cell_type": "code",
   "execution_count": 15,
   "metadata": {},
   "outputs": [],
   "source": [
    "#counting how many purchases were made based off gender\n",
    "gender_purchase_count = Gender_Demo[\"Gender\"].count()"
   ]
  },
  {
   "cell_type": "code",
   "execution_count": 16,
   "metadata": {},
   "outputs": [],
   "source": [
    "#finds the average amount spent for each gender\n",
    "avg_purchase_price = Gender_Demo[\"Price\"].mean()"
   ]
  },
  {
   "cell_type": "code",
   "execution_count": 17,
   "metadata": {},
   "outputs": [],
   "source": [
    "#finds how much each gender spent in total\n",
    "total_purchase_value = Gender_Demo[\"Price\"].sum()"
   ]
  },
  {
   "cell_type": "code",
   "execution_count": 18,
   "metadata": {},
   "outputs": [],
   "source": [
    "#finds the average purchase price per person by gender\n",
    "avg_purchase_per_person = total_purchase_value/gender_count"
   ]
  },
  {
   "cell_type": "code",
   "execution_count": 19,
   "metadata": {},
   "outputs": [
    {
     "data": {
      "text/html": [
       "<style type=\"text/css\">\n",
       "</style>\n",
       "<table id=\"T_3f6ac\">\n",
       "  <thead>\n",
       "    <tr>\n",
       "      <th class=\"blank level0\" >&nbsp;</th>\n",
       "      <th id=\"T_3f6ac_level0_col0\" class=\"col_heading level0 col0\" >Purchase Count</th>\n",
       "      <th id=\"T_3f6ac_level0_col1\" class=\"col_heading level0 col1\" >Average Purchase Price</th>\n",
       "      <th id=\"T_3f6ac_level0_col2\" class=\"col_heading level0 col2\" >Total Purchase Value</th>\n",
       "      <th id=\"T_3f6ac_level0_col3\" class=\"col_heading level0 col3\" >Avg Total Purchase per Person</th>\n",
       "    </tr>\n",
       "    <tr>\n",
       "      <th class=\"index_name level0\" >Gender</th>\n",
       "      <th class=\"blank col0\" >&nbsp;</th>\n",
       "      <th class=\"blank col1\" >&nbsp;</th>\n",
       "      <th class=\"blank col2\" >&nbsp;</th>\n",
       "      <th class=\"blank col3\" >&nbsp;</th>\n",
       "    </tr>\n",
       "  </thead>\n",
       "  <tbody>\n",
       "    <tr>\n",
       "      <th id=\"T_3f6ac_level0_row0\" class=\"row_heading level0 row0\" >Female</th>\n",
       "      <td id=\"T_3f6ac_row0_col0\" class=\"data row0 col0\" >113</td>\n",
       "      <td id=\"T_3f6ac_row0_col1\" class=\"data row0 col1\" >$3.20</td>\n",
       "      <td id=\"T_3f6ac_row0_col2\" class=\"data row0 col2\" >$361.94</td>\n",
       "      <td id=\"T_3f6ac_row0_col3\" class=\"data row0 col3\" >$4.47</td>\n",
       "    </tr>\n",
       "    <tr>\n",
       "      <th id=\"T_3f6ac_level0_row1\" class=\"row_heading level0 row1\" >Male</th>\n",
       "      <td id=\"T_3f6ac_row1_col0\" class=\"data row1 col0\" >652</td>\n",
       "      <td id=\"T_3f6ac_row1_col1\" class=\"data row1 col1\" >$3.02</td>\n",
       "      <td id=\"T_3f6ac_row1_col2\" class=\"data row1 col2\" >$1,967.64</td>\n",
       "      <td id=\"T_3f6ac_row1_col3\" class=\"data row1 col3\" >$4.07</td>\n",
       "    </tr>\n",
       "    <tr>\n",
       "      <th id=\"T_3f6ac_level0_row2\" class=\"row_heading level0 row2\" >Other / Non-Disclosed</th>\n",
       "      <td id=\"T_3f6ac_row2_col0\" class=\"data row2 col0\" >15</td>\n",
       "      <td id=\"T_3f6ac_row2_col1\" class=\"data row2 col1\" >$3.35</td>\n",
       "      <td id=\"T_3f6ac_row2_col2\" class=\"data row2 col2\" >$50.19</td>\n",
       "      <td id=\"T_3f6ac_row2_col3\" class=\"data row2 col3\" >$4.56</td>\n",
       "    </tr>\n",
       "  </tbody>\n",
       "</table>\n"
      ],
      "text/plain": [
       "<pandas.io.formats.style.Styler at 0x14a85a05550>"
      ]
     },
     "execution_count": 19,
     "metadata": {},
     "output_type": "execute_result"
    }
   ],
   "source": [
    "#creates our dataframe\n",
    "Purchasing_Analysis_Gender = pd.DataFrame({\"Purchase Count\": gender_purchase_count, \n",
    "                                           \"Average Purchase Price\": avg_purchase_price,\n",
    "                                          \"Total Purchase Value\": total_purchase_value,\n",
    "                                           \"Avg Total Purchase per Person\": avg_purchase_per_person})\n",
    "#formats our dataframe\n",
    "Purchasing_Analysis_Gender.style.format({\"Purchase Count\": \"{:}\", \n",
    "                                        \"Average Purchase Price\": \"${:.2f}\",\n",
    "                                        \"Total Purchase Value\": \"${:,.2f}\",\n",
    "                                        \"Avg Total Purchase per Person\": \"${:.2f}\"})"
   ]
  },
  {
   "cell_type": "markdown",
   "metadata": {},
   "source": [
    "## Age Demographics"
   ]
  },
  {
   "cell_type": "markdown",
   "metadata": {},
   "source": [
    "* Establish bins for ages\n",
    "\n",
    "\n",
    "* Categorize the existing players using the age bins. Hint: use pd.cut()\n",
    "\n",
    "\n",
    "* Calculate the numbers and percentages by age group\n",
    "\n",
    "\n",
    "* Create a summary data frame to hold the results\n",
    "\n",
    "\n",
    "* Optional: round the percentage column to two decimal points\n",
    "\n",
    "\n",
    "* Display Age Demographics Table\n"
   ]
  },
  {
   "cell_type": "code",
   "execution_count": 20,
   "metadata": {},
   "outputs": [],
   "source": [
    "\n",
    "age_bins = [0, 9, 14, 19, 24, 29, 34, 39, 100]\n",
    "\n",
    "#create bin labels \n",
    "age_bins_name = [\"<10\", \"10-14\", \"15-19\", \"20-24\", \"25-29\", \"30-34\", \"35-39\", \"40+\"]"
   ]
  },
  {
   "cell_type": "code",
   "execution_count": 21,
   "metadata": {},
   "outputs": [],
   "source": [
    "#creates a new column for our age bins \n",
    "purchase_data[\"Age Group\"] = pd.cut(purchase_data[\"Age\"], age_bins, labels = age_bins_name)\n",
    "\n",
    "#group by ages\n",
    "purchase_data_age_group = purchase_data.groupby([\"Age Group\"])"
   ]
  },
  {
   "cell_type": "code",
   "execution_count": 22,
   "metadata": {},
   "outputs": [],
   "source": [
    "#finds how many players are in each age group\n",
    "unique_age = purchase_data_age_group.nunique()[\"SN\"]"
   ]
  },
  {
   "cell_type": "code",
   "execution_count": 23,
   "metadata": {},
   "outputs": [],
   "source": [
    "#finds the % of players in each age group\n",
    "percent_age = unique_age/Total_Players*100"
   ]
  },
  {
   "cell_type": "code",
   "execution_count": 24,
   "metadata": {},
   "outputs": [
    {
     "data": {
      "text/html": [
       "<style type=\"text/css\">\n",
       "</style>\n",
       "<table id=\"T_faf9c\">\n",
       "  <thead>\n",
       "    <tr>\n",
       "      <th class=\"blank level0\" >&nbsp;</th>\n",
       "      <th id=\"T_faf9c_level0_col0\" class=\"col_heading level0 col0\" >Total Count</th>\n",
       "      <th id=\"T_faf9c_level0_col1\" class=\"col_heading level0 col1\" >Percentage of Players</th>\n",
       "    </tr>\n",
       "  </thead>\n",
       "  <tbody>\n",
       "    <tr>\n",
       "      <th id=\"T_faf9c_level0_row0\" class=\"row_heading level0 row0\" ><10</th>\n",
       "      <td id=\"T_faf9c_row0_col0\" class=\"data row0 col0\" >17</td>\n",
       "      <td id=\"T_faf9c_row0_col1\" class=\"data row0 col1\" >2.95%</td>\n",
       "    </tr>\n",
       "    <tr>\n",
       "      <th id=\"T_faf9c_level0_row1\" class=\"row_heading level0 row1\" >10-14</th>\n",
       "      <td id=\"T_faf9c_row1_col0\" class=\"data row1 col0\" >22</td>\n",
       "      <td id=\"T_faf9c_row1_col1\" class=\"data row1 col1\" >3.82%</td>\n",
       "    </tr>\n",
       "    <tr>\n",
       "      <th id=\"T_faf9c_level0_row2\" class=\"row_heading level0 row2\" >15-19</th>\n",
       "      <td id=\"T_faf9c_row2_col0\" class=\"data row2 col0\" >107</td>\n",
       "      <td id=\"T_faf9c_row2_col1\" class=\"data row2 col1\" >18.58%</td>\n",
       "    </tr>\n",
       "    <tr>\n",
       "      <th id=\"T_faf9c_level0_row3\" class=\"row_heading level0 row3\" >20-24</th>\n",
       "      <td id=\"T_faf9c_row3_col0\" class=\"data row3 col0\" >258</td>\n",
       "      <td id=\"T_faf9c_row3_col1\" class=\"data row3 col1\" >44.79%</td>\n",
       "    </tr>\n",
       "    <tr>\n",
       "      <th id=\"T_faf9c_level0_row4\" class=\"row_heading level0 row4\" >25-29</th>\n",
       "      <td id=\"T_faf9c_row4_col0\" class=\"data row4 col0\" >77</td>\n",
       "      <td id=\"T_faf9c_row4_col1\" class=\"data row4 col1\" >13.37%</td>\n",
       "    </tr>\n",
       "    <tr>\n",
       "      <th id=\"T_faf9c_level0_row5\" class=\"row_heading level0 row5\" >30-34</th>\n",
       "      <td id=\"T_faf9c_row5_col0\" class=\"data row5 col0\" >52</td>\n",
       "      <td id=\"T_faf9c_row5_col1\" class=\"data row5 col1\" >9.03%</td>\n",
       "    </tr>\n",
       "    <tr>\n",
       "      <th id=\"T_faf9c_level0_row6\" class=\"row_heading level0 row6\" >35-39</th>\n",
       "      <td id=\"T_faf9c_row6_col0\" class=\"data row6 col0\" >31</td>\n",
       "      <td id=\"T_faf9c_row6_col1\" class=\"data row6 col1\" >5.38%</td>\n",
       "    </tr>\n",
       "    <tr>\n",
       "      <th id=\"T_faf9c_level0_row7\" class=\"row_heading level0 row7\" >40+</th>\n",
       "      <td id=\"T_faf9c_row7_col0\" class=\"data row7 col0\" >12</td>\n",
       "      <td id=\"T_faf9c_row7_col1\" class=\"data row7 col1\" >2.08%</td>\n",
       "    </tr>\n",
       "  </tbody>\n",
       "</table>\n"
      ],
      "text/plain": [
       "<pandas.io.formats.style.Styler at 0x14a85a1c3a0>"
      ]
     },
     "execution_count": 24,
     "metadata": {},
     "output_type": "execute_result"
    }
   ],
   "source": [
    "#creates our data frame\n",
    "Age_Summary = pd.DataFrame({\"Total Count\": unique_age, \"Percentage of Players\": percent_age})\n",
    "\n",
    "#removes the index in the corner\n",
    "Age_Summary.index.name = None\n",
    "\n",
    "#formats our age summary\n",
    "Age_Summary.style.format({\"Total Count\": \"{:}\", \"Percentage of Players\": \"{:.2f}%\"})"
   ]
  },
  {
   "cell_type": "markdown",
   "metadata": {},
   "source": [
    "## Purchasing Analysis (Age)"
   ]
  },
  {
   "cell_type": "markdown",
   "metadata": {},
   "source": [
    "* Bin the purchase_data data frame by age\n",
    "\n",
    "\n",
    "* Run basic calculations to obtain purchase count, avg. purchase price, avg. purchase total per person etc. in the table below\n",
    "\n",
    "\n",
    "* Create a summary data frame to hold the results\n",
    "\n",
    "\n",
    "* Optional: give the displayed data cleaner formatting\n",
    "\n",
    "\n",
    "* Display the summary data frame"
   ]
  },
  {
   "cell_type": "code",
   "execution_count": 25,
   "metadata": {},
   "outputs": [],
   "source": [
    "#counts how many purchases were made in each age group\n",
    "age_purchase_count = purchase_data_age_group[\"Purchase ID\"].count()"
   ]
  },
  {
   "cell_type": "code",
   "execution_count": 26,
   "metadata": {},
   "outputs": [],
   "source": [
    "#finds average purchase price per the age group\n",
    "age_avg_purchase_price = purchase_data_age_group[\"Price\"].mean()"
   ]
  },
  {
   "cell_type": "code",
   "execution_count": 27,
   "metadata": {},
   "outputs": [],
   "source": [
    "#finds how much was spent within a certain age group\n",
    "age_total_purchase = purchase_data_age_group[\"Price\"].sum()"
   ]
  },
  {
   "cell_type": "code",
   "execution_count": 28,
   "metadata": {},
   "outputs": [],
   "source": [
    "#finds the avg purchase per person in the age group\n",
    "age_total_per_person = age_total_purchase/unique_age"
   ]
  },
  {
   "cell_type": "code",
   "execution_count": 29,
   "metadata": {},
   "outputs": [
    {
     "data": {
      "text/html": [
       "<style type=\"text/css\">\n",
       "</style>\n",
       "<table id=\"T_5d11a\">\n",
       "  <thead>\n",
       "    <tr>\n",
       "      <th class=\"blank level0\" >&nbsp;</th>\n",
       "      <th id=\"T_5d11a_level0_col0\" class=\"col_heading level0 col0\" >Purchase Count</th>\n",
       "      <th id=\"T_5d11a_level0_col1\" class=\"col_heading level0 col1\" >Average Purchase Price</th>\n",
       "      <th id=\"T_5d11a_level0_col2\" class=\"col_heading level0 col2\" >Total Purchase Value</th>\n",
       "      <th id=\"T_5d11a_level0_col3\" class=\"col_heading level0 col3\" >Avg Total Purchase per Person</th>\n",
       "    </tr>\n",
       "    <tr>\n",
       "      <th class=\"index_name level0\" >Age Group</th>\n",
       "      <th class=\"blank col0\" >&nbsp;</th>\n",
       "      <th class=\"blank col1\" >&nbsp;</th>\n",
       "      <th class=\"blank col2\" >&nbsp;</th>\n",
       "      <th class=\"blank col3\" >&nbsp;</th>\n",
       "    </tr>\n",
       "  </thead>\n",
       "  <tbody>\n",
       "    <tr>\n",
       "      <th id=\"T_5d11a_level0_row0\" class=\"row_heading level0 row0\" ><10</th>\n",
       "      <td id=\"T_5d11a_row0_col0\" class=\"data row0 col0\" >23</td>\n",
       "      <td id=\"T_5d11a_row0_col1\" class=\"data row0 col1\" >$3.35</td>\n",
       "      <td id=\"T_5d11a_row0_col2\" class=\"data row0 col2\" >$77.13</td>\n",
       "      <td id=\"T_5d11a_row0_col3\" class=\"data row0 col3\" >$4.54</td>\n",
       "    </tr>\n",
       "    <tr>\n",
       "      <th id=\"T_5d11a_level0_row1\" class=\"row_heading level0 row1\" >10-14</th>\n",
       "      <td id=\"T_5d11a_row1_col0\" class=\"data row1 col0\" >28</td>\n",
       "      <td id=\"T_5d11a_row1_col1\" class=\"data row1 col1\" >$2.96</td>\n",
       "      <td id=\"T_5d11a_row1_col2\" class=\"data row1 col2\" >$82.78</td>\n",
       "      <td id=\"T_5d11a_row1_col3\" class=\"data row1 col3\" >$3.76</td>\n",
       "    </tr>\n",
       "    <tr>\n",
       "      <th id=\"T_5d11a_level0_row2\" class=\"row_heading level0 row2\" >15-19</th>\n",
       "      <td id=\"T_5d11a_row2_col0\" class=\"data row2 col0\" >136</td>\n",
       "      <td id=\"T_5d11a_row2_col1\" class=\"data row2 col1\" >$3.04</td>\n",
       "      <td id=\"T_5d11a_row2_col2\" class=\"data row2 col2\" >$412.89</td>\n",
       "      <td id=\"T_5d11a_row2_col3\" class=\"data row2 col3\" >$3.86</td>\n",
       "    </tr>\n",
       "    <tr>\n",
       "      <th id=\"T_5d11a_level0_row3\" class=\"row_heading level0 row3\" >20-24</th>\n",
       "      <td id=\"T_5d11a_row3_col0\" class=\"data row3 col0\" >365</td>\n",
       "      <td id=\"T_5d11a_row3_col1\" class=\"data row3 col1\" >$3.05</td>\n",
       "      <td id=\"T_5d11a_row3_col2\" class=\"data row3 col2\" >$1,114.06</td>\n",
       "      <td id=\"T_5d11a_row3_col3\" class=\"data row3 col3\" >$4.32</td>\n",
       "    </tr>\n",
       "    <tr>\n",
       "      <th id=\"T_5d11a_level0_row4\" class=\"row_heading level0 row4\" >25-29</th>\n",
       "      <td id=\"T_5d11a_row4_col0\" class=\"data row4 col0\" >101</td>\n",
       "      <td id=\"T_5d11a_row4_col1\" class=\"data row4 col1\" >$2.90</td>\n",
       "      <td id=\"T_5d11a_row4_col2\" class=\"data row4 col2\" >$293.00</td>\n",
       "      <td id=\"T_5d11a_row4_col3\" class=\"data row4 col3\" >$3.81</td>\n",
       "    </tr>\n",
       "    <tr>\n",
       "      <th id=\"T_5d11a_level0_row5\" class=\"row_heading level0 row5\" >30-34</th>\n",
       "      <td id=\"T_5d11a_row5_col0\" class=\"data row5 col0\" >73</td>\n",
       "      <td id=\"T_5d11a_row5_col1\" class=\"data row5 col1\" >$2.93</td>\n",
       "      <td id=\"T_5d11a_row5_col2\" class=\"data row5 col2\" >$214.00</td>\n",
       "      <td id=\"T_5d11a_row5_col3\" class=\"data row5 col3\" >$4.12</td>\n",
       "    </tr>\n",
       "    <tr>\n",
       "      <th id=\"T_5d11a_level0_row6\" class=\"row_heading level0 row6\" >35-39</th>\n",
       "      <td id=\"T_5d11a_row6_col0\" class=\"data row6 col0\" >41</td>\n",
       "      <td id=\"T_5d11a_row6_col1\" class=\"data row6 col1\" >$3.60</td>\n",
       "      <td id=\"T_5d11a_row6_col2\" class=\"data row6 col2\" >$147.67</td>\n",
       "      <td id=\"T_5d11a_row6_col3\" class=\"data row6 col3\" >$4.76</td>\n",
       "    </tr>\n",
       "    <tr>\n",
       "      <th id=\"T_5d11a_level0_row7\" class=\"row_heading level0 row7\" >40+</th>\n",
       "      <td id=\"T_5d11a_row7_col0\" class=\"data row7 col0\" >13</td>\n",
       "      <td id=\"T_5d11a_row7_col1\" class=\"data row7 col1\" >$2.94</td>\n",
       "      <td id=\"T_5d11a_row7_col2\" class=\"data row7 col2\" >$38.24</td>\n",
       "      <td id=\"T_5d11a_row7_col3\" class=\"data row7 col3\" >$3.19</td>\n",
       "    </tr>\n",
       "  </tbody>\n",
       "</table>\n"
      ],
      "text/plain": [
       "<pandas.io.formats.style.Styler at 0x14a83b3dc10>"
      ]
     },
     "execution_count": 29,
     "metadata": {},
     "output_type": "execute_result"
    }
   ],
   "source": [
    "#creates our dataframe\n",
    "Purchase_Age_Summary = pd.DataFrame({\"Purchase Count\": age_purchase_count, \n",
    "                                     \"Average Purchase Price\": age_avg_purchase_price, \n",
    "                                     \"Total Purchase Value\": age_total_purchase,\n",
    "                                     \"Avg Total Purchase per Person\": age_total_per_person})\n",
    "#formats our dataframe\n",
    "Purchase_Age_Summary.style.format({\"Purchase Count\": \"{:}\", \n",
    "                                     \"Average Purchase Price\": \"${:.2f}\", \n",
    "                                     \"Total Purchase Value\": \"${:,.2f}\",\n",
    "                                     \"Avg Total Purchase per Person\": \"${:.2f}\"})"
   ]
  },
  {
   "cell_type": "markdown",
   "metadata": {},
   "source": [
    "## Top Spenders"
   ]
  },
  {
   "cell_type": "markdown",
   "metadata": {},
   "source": [
    "* Run basic calculations to obtain the results in the table below\n",
    "\n",
    "\n",
    "* Create a summary data frame to hold the results\n",
    "\n",
    "\n",
    "* Sort the total purchase value column in descending order\n",
    "\n",
    "\n",
    "* Optional: give the displayed data cleaner formatting\n",
    "\n",
    "\n",
    "* Display a preview of the summary data frame\n",
    "\n"
   ]
  },
  {
   "cell_type": "code",
   "execution_count": 30,
   "metadata": {},
   "outputs": [],
   "source": [
    "#groups by SN \n",
    "Spenders = purchase_data.groupby(\"SN\")"
   ]
  },
  {
   "cell_type": "code",
   "execution_count": 31,
   "metadata": {},
   "outputs": [],
   "source": [
    "#counts how many items each player bought\n",
    "SN_purchase_count = Spenders[\"SN\"].count()"
   ]
  },
  {
   "cell_type": "code",
   "execution_count": 32,
   "metadata": {},
   "outputs": [],
   "source": [
    "#finds the average price of the item each player bought\n",
    "SN_avg_purchase_price = Spenders[\"Price\"].mean()"
   ]
  },
  {
   "cell_type": "code",
   "execution_count": 33,
   "metadata": {},
   "outputs": [],
   "source": [
    "#finds how much each player spent\n",
    "SN_total_purchase_value = Spenders[\"Price\"].sum()"
   ]
  },
  {
   "cell_type": "code",
   "execution_count": 34,
   "metadata": {},
   "outputs": [
    {
     "data": {
      "text/html": [
       "<style type=\"text/css\">\n",
       "</style>\n",
       "<table id=\"T_2b34b\">\n",
       "  <thead>\n",
       "    <tr>\n",
       "      <th class=\"blank level0\" >&nbsp;</th>\n",
       "      <th id=\"T_2b34b_level0_col0\" class=\"col_heading level0 col0\" >Purchase Count</th>\n",
       "      <th id=\"T_2b34b_level0_col1\" class=\"col_heading level0 col1\" >Average Purchase Price</th>\n",
       "      <th id=\"T_2b34b_level0_col2\" class=\"col_heading level0 col2\" >Total Purchase Value</th>\n",
       "    </tr>\n",
       "    <tr>\n",
       "      <th class=\"index_name level0\" >SN</th>\n",
       "      <th class=\"blank col0\" >&nbsp;</th>\n",
       "      <th class=\"blank col1\" >&nbsp;</th>\n",
       "      <th class=\"blank col2\" >&nbsp;</th>\n",
       "    </tr>\n",
       "  </thead>\n",
       "  <tbody>\n",
       "    <tr>\n",
       "      <th id=\"T_2b34b_level0_row0\" class=\"row_heading level0 row0\" >Lisosia93</th>\n",
       "      <td id=\"T_2b34b_row0_col0\" class=\"data row0 col0\" >5</td>\n",
       "      <td id=\"T_2b34b_row0_col1\" class=\"data row0 col1\" >$3.79</td>\n",
       "      <td id=\"T_2b34b_row0_col2\" class=\"data row0 col2\" >$18.96</td>\n",
       "    </tr>\n",
       "    <tr>\n",
       "      <th id=\"T_2b34b_level0_row1\" class=\"row_heading level0 row1\" >Idastidru52</th>\n",
       "      <td id=\"T_2b34b_row1_col0\" class=\"data row1 col0\" >4</td>\n",
       "      <td id=\"T_2b34b_row1_col1\" class=\"data row1 col1\" >$3.86</td>\n",
       "      <td id=\"T_2b34b_row1_col2\" class=\"data row1 col2\" >$15.45</td>\n",
       "    </tr>\n",
       "    <tr>\n",
       "      <th id=\"T_2b34b_level0_row2\" class=\"row_heading level0 row2\" >Chamjask73</th>\n",
       "      <td id=\"T_2b34b_row2_col0\" class=\"data row2 col0\" >3</td>\n",
       "      <td id=\"T_2b34b_row2_col1\" class=\"data row2 col1\" >$4.61</td>\n",
       "      <td id=\"T_2b34b_row2_col2\" class=\"data row2 col2\" >$13.83</td>\n",
       "    </tr>\n",
       "    <tr>\n",
       "      <th id=\"T_2b34b_level0_row3\" class=\"row_heading level0 row3\" >Iral74</th>\n",
       "      <td id=\"T_2b34b_row3_col0\" class=\"data row3 col0\" >4</td>\n",
       "      <td id=\"T_2b34b_row3_col1\" class=\"data row3 col1\" >$3.41</td>\n",
       "      <td id=\"T_2b34b_row3_col2\" class=\"data row3 col2\" >$13.62</td>\n",
       "    </tr>\n",
       "    <tr>\n",
       "      <th id=\"T_2b34b_level0_row4\" class=\"row_heading level0 row4\" >Iskadarya95</th>\n",
       "      <td id=\"T_2b34b_row4_col0\" class=\"data row4 col0\" >3</td>\n",
       "      <td id=\"T_2b34b_row4_col1\" class=\"data row4 col1\" >$4.37</td>\n",
       "      <td id=\"T_2b34b_row4_col2\" class=\"data row4 col2\" >$13.10</td>\n",
       "    </tr>\n",
       "  </tbody>\n",
       "</table>\n"
      ],
      "text/plain": [
       "<pandas.io.formats.style.Styler at 0x14a859f6880>"
      ]
     },
     "execution_count": 34,
     "metadata": {},
     "output_type": "execute_result"
    }
   ],
   "source": [
    "#Whale is a slang term for someone who spends a lot on games\n",
    "#set up our dataframe\n",
    "Whales = pd.DataFrame({\"Purchase Count\": SN_purchase_count,\n",
    "                       \"Average Purchase Price\": SN_avg_purchase_price,\n",
    "                       \"Total Purchase Value\": SN_total_purchase_value})\n",
    "#format and sort our dataframe to show our top 5 whales\n",
    "Whales.sort_values([\"Total Purchase Value\"], ascending = False).head().style.format({\"Purchase Count\": \"{:}\", \n",
    "                                                                              \"Average Purchase Price\": \"${:.2f}\", \n",
    "                                                                              \"Total Purchase Value\": \"${:.2f}\"})"
   ]
  },
  {
   "cell_type": "markdown",
   "metadata": {},
   "source": [
    "## Most Popular Items"
   ]
  },
  {
   "cell_type": "markdown",
   "metadata": {},
   "source": [
    "* Retrieve the Item ID, Item Name, and Item Price columns\n",
    "\n",
    "\n",
    "* Group by Item ID and Item Name. Perform calculations to obtain purchase count, average item price, and total purchase value\n",
    "\n",
    "\n",
    "* Create a summary data frame to hold the results\n",
    "\n",
    "\n",
    "* Sort the purchase count column in descending order\n",
    "\n",
    "\n",
    "* Optional: give the displayed data cleaner formatting\n",
    "\n",
    "\n",
    "* Display a preview of the summary data frame\n",
    "\n"
   ]
  },
  {
   "cell_type": "code",
   "execution_count": 35,
   "metadata": {},
   "outputs": [],
   "source": [
    "#groups by item ID and item name\n",
    "Items = purchase_data.groupby([\"Item ID\", \"Item Name\"])"
   ]
  },
  {
   "cell_type": "code",
   "execution_count": 36,
   "metadata": {},
   "outputs": [],
   "source": [
    "#counts how many of each items were purchased\n",
    "item_purchase_count = Items[\"Purchase ID\"].count()"
   ]
  },
  {
   "cell_type": "code",
   "execution_count": 37,
   "metadata": {},
   "outputs": [],
   "source": [
    "#finds how much each item made\n",
    "item_total_value = Items[\"Price\"].sum()"
   ]
  },
  {
   "cell_type": "code",
   "execution_count": 38,
   "metadata": {},
   "outputs": [],
   "source": [
    "#finds how much each item will cost\n",
    "item_price = item_total_value/item_purchase_count"
   ]
  },
  {
   "cell_type": "code",
   "execution_count": 56,
   "metadata": {},
   "outputs": [
    {
     "data": {
      "text/html": [
       "<style type=\"text/css\">\n",
       "</style>\n",
       "<table id=\"T_3c0b9\">\n",
       "  <thead>\n",
       "    <tr>\n",
       "      <th class=\"blank\" >&nbsp;</th>\n",
       "      <th class=\"blank level0\" >&nbsp;</th>\n",
       "      <th id=\"T_3c0b9_level0_col0\" class=\"col_heading level0 col0\" >Purchase Count</th>\n",
       "      <th id=\"T_3c0b9_level0_col1\" class=\"col_heading level0 col1\" >Item Price</th>\n",
       "      <th id=\"T_3c0b9_level0_col2\" class=\"col_heading level0 col2\" >Total Purchase Value</th>\n",
       "    </tr>\n",
       "    <tr>\n",
       "      <th class=\"index_name level0\" >Item ID</th>\n",
       "      <th class=\"index_name level1\" >Item Name</th>\n",
       "      <th class=\"blank col0\" >&nbsp;</th>\n",
       "      <th class=\"blank col1\" >&nbsp;</th>\n",
       "      <th class=\"blank col2\" >&nbsp;</th>\n",
       "    </tr>\n",
       "  </thead>\n",
       "  <tbody>\n",
       "    <tr>\n",
       "      <th id=\"T_3c0b9_level0_row0\" class=\"row_heading level0 row0\" >92</th>\n",
       "      <th id=\"T_3c0b9_level1_row0\" class=\"row_heading level1 row0\" >Final Critic</th>\n",
       "      <td id=\"T_3c0b9_row0_col0\" class=\"data row0 col0\" >13</td>\n",
       "      <td id=\"T_3c0b9_row0_col1\" class=\"data row0 col1\" >$4.61</td>\n",
       "      <td id=\"T_3c0b9_row0_col2\" class=\"data row0 col2\" >$59.99</td>\n",
       "    </tr>\n",
       "    <tr>\n",
       "      <th id=\"T_3c0b9_level0_row1\" class=\"row_heading level0 row1\" >178</th>\n",
       "      <th id=\"T_3c0b9_level1_row1\" class=\"row_heading level1 row1\" >Oathbreaker, Last Hope of the Breaking Storm</th>\n",
       "      <td id=\"T_3c0b9_row1_col0\" class=\"data row1 col0\" >12</td>\n",
       "      <td id=\"T_3c0b9_row1_col1\" class=\"data row1 col1\" >$4.23</td>\n",
       "      <td id=\"T_3c0b9_row1_col2\" class=\"data row1 col2\" >$50.76</td>\n",
       "    </tr>\n",
       "    <tr>\n",
       "      <th id=\"T_3c0b9_level0_row2\" class=\"row_heading level0 row2\" >145</th>\n",
       "      <th id=\"T_3c0b9_level1_row2\" class=\"row_heading level1 row2\" >Fiery Glass Crusader</th>\n",
       "      <td id=\"T_3c0b9_row2_col0\" class=\"data row2 col0\" >9</td>\n",
       "      <td id=\"T_3c0b9_row2_col1\" class=\"data row2 col1\" >$4.58</td>\n",
       "      <td id=\"T_3c0b9_row2_col2\" class=\"data row2 col2\" >$41.22</td>\n",
       "    </tr>\n",
       "    <tr>\n",
       "      <th id=\"T_3c0b9_level0_row3\" class=\"row_heading level0 row3\" >132</th>\n",
       "      <th id=\"T_3c0b9_level1_row3\" class=\"row_heading level1 row3\" >Persuasion</th>\n",
       "      <td id=\"T_3c0b9_row3_col0\" class=\"data row3 col0\" >9</td>\n",
       "      <td id=\"T_3c0b9_row3_col1\" class=\"data row3 col1\" >$3.22</td>\n",
       "      <td id=\"T_3c0b9_row3_col2\" class=\"data row3 col2\" >$28.99</td>\n",
       "    </tr>\n",
       "    <tr>\n",
       "      <th id=\"T_3c0b9_level0_row4\" class=\"row_heading level0 row4\" >108</th>\n",
       "      <th id=\"T_3c0b9_level1_row4\" class=\"row_heading level1 row4\" >Extraction, Quickblade Of Trembling Hands</th>\n",
       "      <td id=\"T_3c0b9_row4_col0\" class=\"data row4 col0\" >9</td>\n",
       "      <td id=\"T_3c0b9_row4_col1\" class=\"data row4 col1\" >$3.53</td>\n",
       "      <td id=\"T_3c0b9_row4_col2\" class=\"data row4 col2\" >$31.77</td>\n",
       "    </tr>\n",
       "  </tbody>\n",
       "</table>\n"
      ],
      "text/plain": [
       "<pandas.io.formats.style.Styler at 0x14a8ae8c5e0>"
      ]
     },
     "execution_count": 56,
     "metadata": {},
     "output_type": "execute_result"
    }
   ],
   "source": [
    "#creates our dataframe \n",
    "Most_Popular = pd.DataFrame({\"Purchase Count\": item_purchase_count,\n",
    "                             \"Item Price\": item_price, \n",
    "                            \"Total Purchase Value\": item_total_value})\n",
    "\n",
    "#sorts and formats our items by \"Purchase Count\" so we can see which items were the most popular\n",
    "Most_Popular.sort_values([\"Purchase Count\"], ascending = False).head().style.format({\"Purchase Count\": \"{:}\", \n",
    "                                                                                          \"Item Price\": \"${:.2f}\", \n",
    "                                                                                          \"Total Purchase Value\": \"${:.2f}\"})"
   ]
  },
  {
   "cell_type": "markdown",
   "metadata": {},
   "source": [
    "## Most Profitable Items"
   ]
  },
  {
   "cell_type": "markdown",
   "metadata": {},
   "source": [
    "* Sort the above table by total purchase value in descending order\n",
    "\n",
    "\n",
    "* Optional: give the displayed data cleaner formatting\n",
    "\n",
    "\n",
    "* Display a preview of the data frame\n",
    "\n"
   ]
  },
  {
   "cell_type": "code",
   "execution_count": 42,
   "metadata": {
    "scrolled": true
   },
   "outputs": [
    {
     "data": {
      "text/html": [
       "<style type=\"text/css\">\n",
       "</style>\n",
       "<table id=\"T_cd94e\">\n",
       "  <thead>\n",
       "    <tr>\n",
       "      <th class=\"blank\" >&nbsp;</th>\n",
       "      <th class=\"blank level0\" >&nbsp;</th>\n",
       "      <th id=\"T_cd94e_level0_col0\" class=\"col_heading level0 col0\" >Purchase Count</th>\n",
       "      <th id=\"T_cd94e_level0_col1\" class=\"col_heading level0 col1\" >Item Price</th>\n",
       "      <th id=\"T_cd94e_level0_col2\" class=\"col_heading level0 col2\" >Total Purchase Value</th>\n",
       "    </tr>\n",
       "    <tr>\n",
       "      <th class=\"index_name level0\" >Item ID</th>\n",
       "      <th class=\"index_name level1\" >Item Name</th>\n",
       "      <th class=\"blank col0\" >&nbsp;</th>\n",
       "      <th class=\"blank col1\" >&nbsp;</th>\n",
       "      <th class=\"blank col2\" >&nbsp;</th>\n",
       "    </tr>\n",
       "  </thead>\n",
       "  <tbody>\n",
       "    <tr>\n",
       "      <th id=\"T_cd94e_level0_row0\" class=\"row_heading level0 row0\" >92</th>\n",
       "      <th id=\"T_cd94e_level1_row0\" class=\"row_heading level1 row0\" >Final Critic</th>\n",
       "      <td id=\"T_cd94e_row0_col0\" class=\"data row0 col0\" >13</td>\n",
       "      <td id=\"T_cd94e_row0_col1\" class=\"data row0 col1\" >$4.61</td>\n",
       "      <td id=\"T_cd94e_row0_col2\" class=\"data row0 col2\" >$59.99</td>\n",
       "    </tr>\n",
       "    <tr>\n",
       "      <th id=\"T_cd94e_level0_row1\" class=\"row_heading level0 row1\" >178</th>\n",
       "      <th id=\"T_cd94e_level1_row1\" class=\"row_heading level1 row1\" >Oathbreaker, Last Hope of the Breaking Storm</th>\n",
       "      <td id=\"T_cd94e_row1_col0\" class=\"data row1 col0\" >12</td>\n",
       "      <td id=\"T_cd94e_row1_col1\" class=\"data row1 col1\" >$4.23</td>\n",
       "      <td id=\"T_cd94e_row1_col2\" class=\"data row1 col2\" >$50.76</td>\n",
       "    </tr>\n",
       "    <tr>\n",
       "      <th id=\"T_cd94e_level0_row2\" class=\"row_heading level0 row2\" >82</th>\n",
       "      <th id=\"T_cd94e_level1_row2\" class=\"row_heading level1 row2\" >Nirvana</th>\n",
       "      <td id=\"T_cd94e_row2_col0\" class=\"data row2 col0\" >9</td>\n",
       "      <td id=\"T_cd94e_row2_col1\" class=\"data row2 col1\" >$4.90</td>\n",
       "      <td id=\"T_cd94e_row2_col2\" class=\"data row2 col2\" >$44.10</td>\n",
       "    </tr>\n",
       "    <tr>\n",
       "      <th id=\"T_cd94e_level0_row3\" class=\"row_heading level0 row3\" >145</th>\n",
       "      <th id=\"T_cd94e_level1_row3\" class=\"row_heading level1 row3\" >Fiery Glass Crusader</th>\n",
       "      <td id=\"T_cd94e_row3_col0\" class=\"data row3 col0\" >9</td>\n",
       "      <td id=\"T_cd94e_row3_col1\" class=\"data row3 col1\" >$4.58</td>\n",
       "      <td id=\"T_cd94e_row3_col2\" class=\"data row3 col2\" >$41.22</td>\n",
       "    </tr>\n",
       "    <tr>\n",
       "      <th id=\"T_cd94e_level0_row4\" class=\"row_heading level0 row4\" >103</th>\n",
       "      <th id=\"T_cd94e_level1_row4\" class=\"row_heading level1 row4\" >Singed Scalpel</th>\n",
       "      <td id=\"T_cd94e_row4_col0\" class=\"data row4 col0\" >8</td>\n",
       "      <td id=\"T_cd94e_row4_col1\" class=\"data row4 col1\" >$4.35</td>\n",
       "      <td id=\"T_cd94e_row4_col2\" class=\"data row4 col2\" >$34.80</td>\n",
       "    </tr>\n",
       "  </tbody>\n",
       "</table>\n"
      ],
      "text/plain": [
       "<pandas.io.formats.style.Styler at 0x14a85a1c2b0>"
      ]
     },
     "execution_count": 42,
     "metadata": {},
     "output_type": "execute_result"
    }
   ],
   "source": [
    "#sorts and formats our previous data frame by \"Total Purchase Value\" so we can see which items were the most profitable \n",
    "Most_Popular.sort_values([\"Total Purchase Value\"], ascending = False).head().style.format({\"Purchase Count\": \"{:}\", \n",
    "                                                                                          \"Item Price\": \"${:.2f}\", \n",
    "                                                                                          \"Total Purchase Value\": \"${:.2f}\"})"
   ]
  },
  {
   "cell_type": "code",
   "execution_count": null,
   "metadata": {},
   "outputs": [],
   "source": []
  }
 ],
 "metadata": {
  "anaconda-cloud": {},
  "kernel_info": {
   "name": "python3"
  },
  "kernelspec": {
   "display_name": "Python 3 (ipykernel)",
   "language": "python",
   "name": "python3"
  },
  "language_info": {
   "codemirror_mode": {
    "name": "ipython",
    "version": 3
   },
   "file_extension": ".py",
   "mimetype": "text/x-python",
   "name": "python",
   "nbconvert_exporter": "python",
   "pygments_lexer": "ipython3",
   "version": "3.9.12"
  },
  "latex_envs": {
   "LaTeX_envs_menu_present": true,
   "autoclose": false,
   "autocomplete": true,
   "bibliofile": "biblio.bib",
   "cite_by": "apalike",
   "current_citInitial": 1,
   "eqLabelWithNumbers": true,
   "eqNumInitial": 1,
   "hotkeys": {
    "equation": "Ctrl-E",
    "itemize": "Ctrl-I"
   },
   "labels_anchors": false,
   "latex_user_defs": false,
   "report_style_numbering": false,
   "user_envs_cfg": false
  },
  "nteract": {
   "version": "0.2.0"
  }
 },
 "nbformat": 4,
 "nbformat_minor": 2
}

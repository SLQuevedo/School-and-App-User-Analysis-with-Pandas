{
 "cells": [
  {
   "cell_type": "markdown",
   "metadata": {},
   "source": [
    "### Note\n",
    "* Instructions have been included for each segment. You do not have to follow them exactly, but they are included to help you think through the steps."
   ]
  },
  {
   "cell_type": "code",
   "execution_count": 214,
   "metadata": {},
   "outputs": [],
   "source": [
    "# Dependencies and Setup\n",
    "import pandas as pd\n",
    "\n",
    "# File to Load (Remember to Change These)\n",
    "school_data_to_load = \"Resources/schools_complete.csv\"\n",
    "student_data_to_load = \"Resources/students_complete.csv\"\n",
    "\n",
    "# Read School and Student Data File and store into Pandas DataFrames\n",
    "school_data = pd.read_csv(school_data_to_load)\n",
    "student_data = pd.read_csv(student_data_to_load)\n",
    "\n",
    "# Combine the data into a single dataset.  \n",
    "school_data_complete = pd.merge(student_data, school_data, how=\"left\", on=[\"school_name\", \"school_name\"])\n"
   ]
  },
  {
   "cell_type": "markdown",
   "metadata": {},
   "source": [
    "## District Summary\n",
    "\n",
    "* Calculate the total number of schools\n",
    "\n",
    "* Calculate the total number of students\n",
    "\n",
    "* Calculate the total budget\n",
    "\n",
    "* Calculate the average math score \n",
    "\n",
    "* Calculate the average reading score\n",
    "\n",
    "* Calculate the percentage of students with a passing math score (70 or greater)\n",
    "\n",
    "* Calculate the percentage of students with a passing reading score (70 or greater)\n",
    "\n",
    "* Calculate the percentage of students who passed math **and** reading (% Overall Passing)\n",
    "\n",
    "* Create a dataframe to hold the above results\n",
    "\n",
    "* Optional: give the displayed data cleaner formatting"
   ]
  },
  {
   "cell_type": "code",
   "execution_count": 215,
   "metadata": {},
   "outputs": [
    {
     "data": {
      "text/html": [
       "<div>\n",
       "<style scoped>\n",
       "    .dataframe tbody tr th:only-of-type {\n",
       "        vertical-align: middle;\n",
       "    }\n",
       "\n",
       "    .dataframe tbody tr th {\n",
       "        vertical-align: top;\n",
       "    }\n",
       "\n",
       "    .dataframe thead th {\n",
       "        text-align: right;\n",
       "    }\n",
       "</style>\n",
       "<table border=\"1\" class=\"dataframe\">\n",
       "  <thead>\n",
       "    <tr style=\"text-align: right;\">\n",
       "      <th></th>\n",
       "      <th>Student ID</th>\n",
       "      <th>student_name</th>\n",
       "      <th>gender</th>\n",
       "      <th>grade</th>\n",
       "      <th>school_name</th>\n",
       "      <th>reading_score</th>\n",
       "      <th>math_score</th>\n",
       "      <th>School ID</th>\n",
       "      <th>type</th>\n",
       "      <th>size</th>\n",
       "      <th>budget</th>\n",
       "    </tr>\n",
       "  </thead>\n",
       "  <tbody>\n",
       "    <tr>\n",
       "      <th>0</th>\n",
       "      <td>0</td>\n",
       "      <td>Paul Bradley</td>\n",
       "      <td>M</td>\n",
       "      <td>9th</td>\n",
       "      <td>Huang High School</td>\n",
       "      <td>66</td>\n",
       "      <td>79</td>\n",
       "      <td>0</td>\n",
       "      <td>District</td>\n",
       "      <td>2917</td>\n",
       "      <td>1910635</td>\n",
       "    </tr>\n",
       "    <tr>\n",
       "      <th>1</th>\n",
       "      <td>1</td>\n",
       "      <td>Victor Smith</td>\n",
       "      <td>M</td>\n",
       "      <td>12th</td>\n",
       "      <td>Huang High School</td>\n",
       "      <td>94</td>\n",
       "      <td>61</td>\n",
       "      <td>0</td>\n",
       "      <td>District</td>\n",
       "      <td>2917</td>\n",
       "      <td>1910635</td>\n",
       "    </tr>\n",
       "    <tr>\n",
       "      <th>2</th>\n",
       "      <td>2</td>\n",
       "      <td>Kevin Rodriguez</td>\n",
       "      <td>M</td>\n",
       "      <td>12th</td>\n",
       "      <td>Huang High School</td>\n",
       "      <td>90</td>\n",
       "      <td>60</td>\n",
       "      <td>0</td>\n",
       "      <td>District</td>\n",
       "      <td>2917</td>\n",
       "      <td>1910635</td>\n",
       "    </tr>\n",
       "    <tr>\n",
       "      <th>3</th>\n",
       "      <td>3</td>\n",
       "      <td>Dr. Richard Scott</td>\n",
       "      <td>M</td>\n",
       "      <td>12th</td>\n",
       "      <td>Huang High School</td>\n",
       "      <td>67</td>\n",
       "      <td>58</td>\n",
       "      <td>0</td>\n",
       "      <td>District</td>\n",
       "      <td>2917</td>\n",
       "      <td>1910635</td>\n",
       "    </tr>\n",
       "    <tr>\n",
       "      <th>4</th>\n",
       "      <td>4</td>\n",
       "      <td>Bonnie Ray</td>\n",
       "      <td>F</td>\n",
       "      <td>9th</td>\n",
       "      <td>Huang High School</td>\n",
       "      <td>97</td>\n",
       "      <td>84</td>\n",
       "      <td>0</td>\n",
       "      <td>District</td>\n",
       "      <td>2917</td>\n",
       "      <td>1910635</td>\n",
       "    </tr>\n",
       "  </tbody>\n",
       "</table>\n",
       "</div>"
      ],
      "text/plain": [
       "   Student ID       student_name gender grade        school_name  \\\n",
       "0           0       Paul Bradley      M   9th  Huang High School   \n",
       "1           1       Victor Smith      M  12th  Huang High School   \n",
       "2           2    Kevin Rodriguez      M  12th  Huang High School   \n",
       "3           3  Dr. Richard Scott      M  12th  Huang High School   \n",
       "4           4         Bonnie Ray      F   9th  Huang High School   \n",
       "\n",
       "   reading_score  math_score  School ID      type  size   budget  \n",
       "0             66          79          0  District  2917  1910635  \n",
       "1             94          61          0  District  2917  1910635  \n",
       "2             90          60          0  District  2917  1910635  \n",
       "3             67          58          0  District  2917  1910635  \n",
       "4             97          84          0  District  2917  1910635  "
      ]
     },
     "execution_count": 215,
     "metadata": {},
     "output_type": "execute_result"
    }
   ],
   "source": [
    "school_data_complete.head()"
   ]
  },
  {
   "cell_type": "code",
   "execution_count": 216,
   "metadata": {},
   "outputs": [
    {
     "data": {
      "text/html": [
       "<div>\n",
       "<style scoped>\n",
       "    .dataframe tbody tr th:only-of-type {\n",
       "        vertical-align: middle;\n",
       "    }\n",
       "\n",
       "    .dataframe tbody tr th {\n",
       "        vertical-align: top;\n",
       "    }\n",
       "\n",
       "    .dataframe thead th {\n",
       "        text-align: right;\n",
       "    }\n",
       "</style>\n",
       "<table border=\"1\" class=\"dataframe\">\n",
       "  <thead>\n",
       "    <tr style=\"text-align: right;\">\n",
       "      <th></th>\n",
       "      <th>Student ID</th>\n",
       "      <th>Student Name</th>\n",
       "      <th>Gender</th>\n",
       "      <th>Grade</th>\n",
       "      <th>School Name</th>\n",
       "      <th>Reading Score</th>\n",
       "      <th>Math Score</th>\n",
       "      <th>School ID</th>\n",
       "      <th>Type</th>\n",
       "      <th>Size</th>\n",
       "      <th>Budget</th>\n",
       "    </tr>\n",
       "  </thead>\n",
       "  <tbody>\n",
       "    <tr>\n",
       "      <th>0</th>\n",
       "      <td>0</td>\n",
       "      <td>Paul Bradley</td>\n",
       "      <td>M</td>\n",
       "      <td>9th</td>\n",
       "      <td>Huang High School</td>\n",
       "      <td>66</td>\n",
       "      <td>79</td>\n",
       "      <td>0</td>\n",
       "      <td>District</td>\n",
       "      <td>2917</td>\n",
       "      <td>1910635</td>\n",
       "    </tr>\n",
       "    <tr>\n",
       "      <th>1</th>\n",
       "      <td>1</td>\n",
       "      <td>Victor Smith</td>\n",
       "      <td>M</td>\n",
       "      <td>12th</td>\n",
       "      <td>Huang High School</td>\n",
       "      <td>94</td>\n",
       "      <td>61</td>\n",
       "      <td>0</td>\n",
       "      <td>District</td>\n",
       "      <td>2917</td>\n",
       "      <td>1910635</td>\n",
       "    </tr>\n",
       "    <tr>\n",
       "      <th>2</th>\n",
       "      <td>2</td>\n",
       "      <td>Kevin Rodriguez</td>\n",
       "      <td>M</td>\n",
       "      <td>12th</td>\n",
       "      <td>Huang High School</td>\n",
       "      <td>90</td>\n",
       "      <td>60</td>\n",
       "      <td>0</td>\n",
       "      <td>District</td>\n",
       "      <td>2917</td>\n",
       "      <td>1910635</td>\n",
       "    </tr>\n",
       "    <tr>\n",
       "      <th>3</th>\n",
       "      <td>3</td>\n",
       "      <td>Dr. Richard Scott</td>\n",
       "      <td>M</td>\n",
       "      <td>12th</td>\n",
       "      <td>Huang High School</td>\n",
       "      <td>67</td>\n",
       "      <td>58</td>\n",
       "      <td>0</td>\n",
       "      <td>District</td>\n",
       "      <td>2917</td>\n",
       "      <td>1910635</td>\n",
       "    </tr>\n",
       "    <tr>\n",
       "      <th>4</th>\n",
       "      <td>4</td>\n",
       "      <td>Bonnie Ray</td>\n",
       "      <td>F</td>\n",
       "      <td>9th</td>\n",
       "      <td>Huang High School</td>\n",
       "      <td>97</td>\n",
       "      <td>84</td>\n",
       "      <td>0</td>\n",
       "      <td>District</td>\n",
       "      <td>2917</td>\n",
       "      <td>1910635</td>\n",
       "    </tr>\n",
       "  </tbody>\n",
       "</table>\n",
       "</div>"
      ],
      "text/plain": [
       "   Student ID       Student Name Gender Grade        School Name  \\\n",
       "0           0       Paul Bradley      M   9th  Huang High School   \n",
       "1           1       Victor Smith      M  12th  Huang High School   \n",
       "2           2    Kevin Rodriguez      M  12th  Huang High School   \n",
       "3           3  Dr. Richard Scott      M  12th  Huang High School   \n",
       "4           4         Bonnie Ray      F   9th  Huang High School   \n",
       "\n",
       "   Reading Score  Math Score  School ID      Type  Size   Budget  \n",
       "0             66          79          0  District  2917  1910635  \n",
       "1             94          61          0  District  2917  1910635  \n",
       "2             90          60          0  District  2917  1910635  \n",
       "3             67          58          0  District  2917  1910635  \n",
       "4             97          84          0  District  2917  1910635  "
      ]
     },
     "execution_count": 216,
     "metadata": {},
     "output_type": "execute_result"
    }
   ],
   "source": [
    "#renaming columns \n",
    "school_data_complete = school_data_complete.rename(columns={\"student_name\": \"Student Name\", \n",
    "                                    \"gender\": \"Gender\", \"grade\": \"Grade\", \"school_name\": \"School Name\", \n",
    "                                    \"reading_score\": \"Reading Score\", \"math_score\": \"Math Score\", \"type\": \"Type\",\n",
    "                                     \"size\": \"Size\", \"budget\": \"Budget\"})\n",
    "school_data_complete.head()"
   ]
  },
  {
   "cell_type": "code",
   "execution_count": 217,
   "metadata": {},
   "outputs": [],
   "source": [
    "#finds no. of schools and students, the total budget and the average math and reading scores\n",
    "school_count = len(pd.unique(school_data_complete[\"School Name\"]))\n",
    "\n",
    "student_total = school_data_complete[\"Student Name\"].count()\n",
    "\n",
    "#from school data because school_data_complete will add each school's budget many times\n",
    "Total_Budget = school_data[\"budget\"].sum()\n",
    "\n",
    "Avg_Math = school_data_complete[\"Math Score\"].mean()\n",
    "\n",
    "Avg_Reading = school_data_complete[\"Reading Score\"].mean()"
   ]
  },
  {
   "cell_type": "code",
   "execution_count": 229,
   "metadata": {},
   "outputs": [],
   "source": [
    "#calc the % passing math\n",
    "Math_Pass = school_data_complete.loc[(school_data_complete[\"Math Score\"] >= 70)]\n",
    "count_Math_Pass = Math_Pass[\"Student ID\"].count()\n",
    "perc_Math_Pass = (count_Math_Pass/student_total)*100"
   ]
  },
  {
   "cell_type": "code",
   "execution_count": 235,
   "metadata": {},
   "outputs": [],
   "source": [
    "#calc the % passing reading\n",
    "Read_Pass = school_data_complete.loc[(school_data_complete[\"Reading Score\"] >= 70)]\n",
    "count_Read_Pass = Read_Pass[\"Student ID\"].count()\n",
    "perc_Read_Pass = (count_Read_Pass/student_total)*100"
   ]
  },
  {
   "cell_type": "code",
   "execution_count": 236,
   "metadata": {},
   "outputs": [],
   "source": [
    "#calc overall students passing\n",
    "Pass_Overall = school_data_complete.loc[((school_data_complete[\"Math Score\"] >= 70) & \n",
    "                                         (school_data_complete[\"Reading Score\"] >= 70))]\n",
    "\n",
    "count_Pass_Overall = Pass_Overall[\"Student ID\"].count()\n",
    "perc_Pass_Overall = (count_Pass_Overall/student_total)*100\n"
   ]
  },
  {
   "cell_type": "code",
   "execution_count": 237,
   "metadata": {},
   "outputs": [
    {
     "data": {
      "text/html": [
       "<div>\n",
       "<style scoped>\n",
       "    .dataframe tbody tr th:only-of-type {\n",
       "        vertical-align: middle;\n",
       "    }\n",
       "\n",
       "    .dataframe tbody tr th {\n",
       "        vertical-align: top;\n",
       "    }\n",
       "\n",
       "    .dataframe thead th {\n",
       "        text-align: right;\n",
       "    }\n",
       "</style>\n",
       "<table border=\"1\" class=\"dataframe\">\n",
       "  <thead>\n",
       "    <tr style=\"text-align: right;\">\n",
       "      <th></th>\n",
       "      <th>Total Schools</th>\n",
       "      <th>Total Students</th>\n",
       "      <th>Total Budget</th>\n",
       "      <th>Average Math Score</th>\n",
       "      <th>Average Reading Score</th>\n",
       "      <th>% Passing Math</th>\n",
       "      <th>% Passing Reading</th>\n",
       "      <th>% Overall Passing</th>\n",
       "    </tr>\n",
       "  </thead>\n",
       "  <tbody>\n",
       "    <tr>\n",
       "      <th>0</th>\n",
       "      <td>15</td>\n",
       "      <td>39,170</td>\n",
       "      <td>$24,649,428.00</td>\n",
       "      <td>78.985371</td>\n",
       "      <td>81.87784</td>\n",
       "      <td>74.980853</td>\n",
       "      <td>85.805463</td>\n",
       "      <td>65.172326</td>\n",
       "    </tr>\n",
       "  </tbody>\n",
       "</table>\n",
       "</div>"
      ],
      "text/plain": [
       "   Total Schools Total Students    Total Budget  Average Math Score  \\\n",
       "0             15         39,170  $24,649,428.00           78.985371   \n",
       "\n",
       "   Average Reading Score  % Passing Math  % Passing Reading  % Overall Passing  \n",
       "0               81.87784       74.980853          85.805463          65.172326  "
      ]
     },
     "execution_count": 237,
     "metadata": {},
     "output_type": "execute_result"
    }
   ],
   "source": [
    "Dist_Sum = {\"Total Schools\": school_count, \"Total Students\": f\"{student_total:,}\",\"Total Budget\": f\"${Total_Budget:,.2f}\",\n",
    "           \"Average Math Score\": Avg_Math, \"Average Reading Score\": Avg_Reading, \"% Passing Math\": perc_Math_Pass,\n",
    "           \"% Passing Reading\": perc_Read_Pass, \"% Overall Passing\": perc_Pass_Overall}\n",
    "Dist_Sum_df = pd.DataFrame([Dist_Sum])\n",
    "#set as df so we can reference later if we need to\n",
    "Dist_Sum_df.head()"
   ]
  },
  {
   "cell_type": "code",
   "execution_count": null,
   "metadata": {},
   "outputs": [],
   "source": []
  },
  {
   "cell_type": "markdown",
   "metadata": {},
   "source": [
    "## School Summary"
   ]
  },
  {
   "cell_type": "markdown",
   "metadata": {},
   "source": [
    "* Create an overview table that summarizes key metrics about each school, including:\n",
    "  * School Name\n",
    "  * School Type\n",
    "  * Total Students\n",
    "  * Total School Budget\n",
    "  * Per Student Budget\n",
    "  * Average Math Score\n",
    "  * Average Reading Score\n",
    "  * % Passing Math\n",
    "  * % Passing Reading\n",
    "  * % Overall Passing (The percentage of students that passed math **and** reading.)\n",
    "  \n",
    "* Create a dataframe to hold the above results"
   ]
  },
  {
   "cell_type": "code",
   "execution_count": 113,
   "metadata": {},
   "outputs": [],
   "source": [
    "School_Name = school_data_complete.groupby([\"School Name\"])\n",
    "\n",
    "#School_Name_df = pd.DataFrame(School_Name)\n",
    "Stu_Total = School_Name[\"Student ID\"].count()\n",
    "\n",
    "school_type = school_data.set_index(\"school_name\")[\"type\"]"
   ]
  },
  {
   "cell_type": "code",
   "execution_count": 114,
   "metadata": {},
   "outputs": [],
   "source": [
    "#gets a particular school's budget\n",
    "School_budget = school_data.set_index(\"school_name\")[\"budget\"]\n",
    "\n",
    "#calcs budget per student for each school\n",
    "budg_per_student = (school_data.set_index(\"school_name\")[\"budget\"]/school_data.set_index(\"school_name\")[\"size\"])\n"
   ]
  },
  {
   "cell_type": "code",
   "execution_count": 115,
   "metadata": {},
   "outputs": [],
   "source": [
    "avg_math_school = School_Name[\"Math Score\"].mean()\n",
    "\n",
    "avg_read_school = School_Name[\"Reading Score\"].mean()"
   ]
  },
  {
   "cell_type": "code",
   "execution_count": 116,
   "metadata": {},
   "outputs": [],
   "source": [
    "#for each school we want to group by passing math and count the value to find the % of students of each school that passed\n",
    "#pass_math = School_Name.loc[(School_Name[\"Math Score\"] >= 70)]\n",
    "pass_math = school_data_complete[school_data_complete[\"Math Score\"] >= 70].groupby(\"School Name\")[\"Math Score\"].count()\n",
    "\n",
    "perc_school_math_pass = pass_math/Stu_Total*100\n"
   ]
  },
  {
   "cell_type": "code",
   "execution_count": 117,
   "metadata": {},
   "outputs": [],
   "source": [
    "pass_read = school_data_complete[school_data_complete[\"Reading Score\"] >= 70].groupby(\"School Name\")[\"Student ID\"].count()\n",
    "\n",
    "perc_school_read_pass = pass_read/Stu_Total*100"
   ]
  },
  {
   "cell_type": "code",
   "execution_count": 118,
   "metadata": {},
   "outputs": [],
   "source": [
    "overall_pass_school = school_data_complete[(school_data_complete[\"Reading Score\"] >= 70) & \n",
    "                                    (school_data_complete[\"Math Score\"] >= 70)].groupby(\"School Name\")[\"Student ID\"].count()\n",
    "\n",
    "perc_overall_pass_school = overall_pass_school/Stu_Total*100"
   ]
  },
  {
   "cell_type": "code",
   "execution_count": 119,
   "metadata": {},
   "outputs": [
    {
     "data": {
      "text/html": [
       "<style type=\"text/css\">\n",
       "</style>\n",
       "<table id=\"T_60dfa\">\n",
       "  <thead>\n",
       "    <tr>\n",
       "      <th class=\"blank level0\" >&nbsp;</th>\n",
       "      <th id=\"T_60dfa_level0_col0\" class=\"col_heading level0 col0\" >School Type</th>\n",
       "      <th id=\"T_60dfa_level0_col1\" class=\"col_heading level0 col1\" >Total Students</th>\n",
       "      <th id=\"T_60dfa_level0_col2\" class=\"col_heading level0 col2\" >Total Budget</th>\n",
       "      <th id=\"T_60dfa_level0_col3\" class=\"col_heading level0 col3\" >Per Student Budget</th>\n",
       "      <th id=\"T_60dfa_level0_col4\" class=\"col_heading level0 col4\" >Average Math Score</th>\n",
       "      <th id=\"T_60dfa_level0_col5\" class=\"col_heading level0 col5\" >Average Reading Score</th>\n",
       "      <th id=\"T_60dfa_level0_col6\" class=\"col_heading level0 col6\" >% Passing Math</th>\n",
       "      <th id=\"T_60dfa_level0_col7\" class=\"col_heading level0 col7\" >% Passing Reading</th>\n",
       "      <th id=\"T_60dfa_level0_col8\" class=\"col_heading level0 col8\" >% Overall Passing</th>\n",
       "    </tr>\n",
       "  </thead>\n",
       "  <tbody>\n",
       "    <tr>\n",
       "      <th id=\"T_60dfa_level0_row0\" class=\"row_heading level0 row0\" >Bailey High School</th>\n",
       "      <td id=\"T_60dfa_row0_col0\" class=\"data row0 col0\" >District</td>\n",
       "      <td id=\"T_60dfa_row0_col1\" class=\"data row0 col1\" >4,976</td>\n",
       "      <td id=\"T_60dfa_row0_col2\" class=\"data row0 col2\" >$3,124,928.00</td>\n",
       "      <td id=\"T_60dfa_row0_col3\" class=\"data row0 col3\" >$628.00</td>\n",
       "      <td id=\"T_60dfa_row0_col4\" class=\"data row0 col4\" >77.048432</td>\n",
       "      <td id=\"T_60dfa_row0_col5\" class=\"data row0 col5\" >81.033963</td>\n",
       "      <td id=\"T_60dfa_row0_col6\" class=\"data row0 col6\" >66.680064</td>\n",
       "      <td id=\"T_60dfa_row0_col7\" class=\"data row0 col7\" >81.933280</td>\n",
       "      <td id=\"T_60dfa_row0_col8\" class=\"data row0 col8\" >54.642283</td>\n",
       "    </tr>\n",
       "    <tr>\n",
       "      <th id=\"T_60dfa_level0_row1\" class=\"row_heading level0 row1\" >Cabrera High School</th>\n",
       "      <td id=\"T_60dfa_row1_col0\" class=\"data row1 col0\" >Charter</td>\n",
       "      <td id=\"T_60dfa_row1_col1\" class=\"data row1 col1\" >1,858</td>\n",
       "      <td id=\"T_60dfa_row1_col2\" class=\"data row1 col2\" >$1,081,356.00</td>\n",
       "      <td id=\"T_60dfa_row1_col3\" class=\"data row1 col3\" >$582.00</td>\n",
       "      <td id=\"T_60dfa_row1_col4\" class=\"data row1 col4\" >83.061895</td>\n",
       "      <td id=\"T_60dfa_row1_col5\" class=\"data row1 col5\" >83.975780</td>\n",
       "      <td id=\"T_60dfa_row1_col6\" class=\"data row1 col6\" >94.133477</td>\n",
       "      <td id=\"T_60dfa_row1_col7\" class=\"data row1 col7\" >97.039828</td>\n",
       "      <td id=\"T_60dfa_row1_col8\" class=\"data row1 col8\" >91.334769</td>\n",
       "    </tr>\n",
       "    <tr>\n",
       "      <th id=\"T_60dfa_level0_row2\" class=\"row_heading level0 row2\" >Figueroa High School</th>\n",
       "      <td id=\"T_60dfa_row2_col0\" class=\"data row2 col0\" >District</td>\n",
       "      <td id=\"T_60dfa_row2_col1\" class=\"data row2 col1\" >2,949</td>\n",
       "      <td id=\"T_60dfa_row2_col2\" class=\"data row2 col2\" >$1,884,411.00</td>\n",
       "      <td id=\"T_60dfa_row2_col3\" class=\"data row2 col3\" >$639.00</td>\n",
       "      <td id=\"T_60dfa_row2_col4\" class=\"data row2 col4\" >76.711767</td>\n",
       "      <td id=\"T_60dfa_row2_col5\" class=\"data row2 col5\" >81.158020</td>\n",
       "      <td id=\"T_60dfa_row2_col6\" class=\"data row2 col6\" >65.988471</td>\n",
       "      <td id=\"T_60dfa_row2_col7\" class=\"data row2 col7\" >80.739234</td>\n",
       "      <td id=\"T_60dfa_row2_col8\" class=\"data row2 col8\" >53.204476</td>\n",
       "    </tr>\n",
       "    <tr>\n",
       "      <th id=\"T_60dfa_level0_row3\" class=\"row_heading level0 row3\" >Ford High School</th>\n",
       "      <td id=\"T_60dfa_row3_col0\" class=\"data row3 col0\" >District</td>\n",
       "      <td id=\"T_60dfa_row3_col1\" class=\"data row3 col1\" >2,739</td>\n",
       "      <td id=\"T_60dfa_row3_col2\" class=\"data row3 col2\" >$1,763,916.00</td>\n",
       "      <td id=\"T_60dfa_row3_col3\" class=\"data row3 col3\" >$644.00</td>\n",
       "      <td id=\"T_60dfa_row3_col4\" class=\"data row3 col4\" >77.102592</td>\n",
       "      <td id=\"T_60dfa_row3_col5\" class=\"data row3 col5\" >80.746258</td>\n",
       "      <td id=\"T_60dfa_row3_col6\" class=\"data row3 col6\" >68.309602</td>\n",
       "      <td id=\"T_60dfa_row3_col7\" class=\"data row3 col7\" >79.299014</td>\n",
       "      <td id=\"T_60dfa_row3_col8\" class=\"data row3 col8\" >54.289887</td>\n",
       "    </tr>\n",
       "    <tr>\n",
       "      <th id=\"T_60dfa_level0_row4\" class=\"row_heading level0 row4\" >Griffin High School</th>\n",
       "      <td id=\"T_60dfa_row4_col0\" class=\"data row4 col0\" >Charter</td>\n",
       "      <td id=\"T_60dfa_row4_col1\" class=\"data row4 col1\" >1,468</td>\n",
       "      <td id=\"T_60dfa_row4_col2\" class=\"data row4 col2\" >$917,500.00</td>\n",
       "      <td id=\"T_60dfa_row4_col3\" class=\"data row4 col3\" >$625.00</td>\n",
       "      <td id=\"T_60dfa_row4_col4\" class=\"data row4 col4\" >83.351499</td>\n",
       "      <td id=\"T_60dfa_row4_col5\" class=\"data row4 col5\" >83.816757</td>\n",
       "      <td id=\"T_60dfa_row4_col6\" class=\"data row4 col6\" >93.392371</td>\n",
       "      <td id=\"T_60dfa_row4_col7\" class=\"data row4 col7\" >97.138965</td>\n",
       "      <td id=\"T_60dfa_row4_col8\" class=\"data row4 col8\" >90.599455</td>\n",
       "    </tr>\n",
       "    <tr>\n",
       "      <th id=\"T_60dfa_level0_row5\" class=\"row_heading level0 row5\" >Hernandez High School</th>\n",
       "      <td id=\"T_60dfa_row5_col0\" class=\"data row5 col0\" >District</td>\n",
       "      <td id=\"T_60dfa_row5_col1\" class=\"data row5 col1\" >4,635</td>\n",
       "      <td id=\"T_60dfa_row5_col2\" class=\"data row5 col2\" >$3,022,020.00</td>\n",
       "      <td id=\"T_60dfa_row5_col3\" class=\"data row5 col3\" >$652.00</td>\n",
       "      <td id=\"T_60dfa_row5_col4\" class=\"data row5 col4\" >77.289752</td>\n",
       "      <td id=\"T_60dfa_row5_col5\" class=\"data row5 col5\" >80.934412</td>\n",
       "      <td id=\"T_60dfa_row5_col6\" class=\"data row5 col6\" >66.752967</td>\n",
       "      <td id=\"T_60dfa_row5_col7\" class=\"data row5 col7\" >80.862999</td>\n",
       "      <td id=\"T_60dfa_row5_col8\" class=\"data row5 col8\" >53.527508</td>\n",
       "    </tr>\n",
       "    <tr>\n",
       "      <th id=\"T_60dfa_level0_row6\" class=\"row_heading level0 row6\" >Holden High School</th>\n",
       "      <td id=\"T_60dfa_row6_col0\" class=\"data row6 col0\" >Charter</td>\n",
       "      <td id=\"T_60dfa_row6_col1\" class=\"data row6 col1\" >427</td>\n",
       "      <td id=\"T_60dfa_row6_col2\" class=\"data row6 col2\" >$248,087.00</td>\n",
       "      <td id=\"T_60dfa_row6_col3\" class=\"data row6 col3\" >$581.00</td>\n",
       "      <td id=\"T_60dfa_row6_col4\" class=\"data row6 col4\" >83.803279</td>\n",
       "      <td id=\"T_60dfa_row6_col5\" class=\"data row6 col5\" >83.814988</td>\n",
       "      <td id=\"T_60dfa_row6_col6\" class=\"data row6 col6\" >92.505855</td>\n",
       "      <td id=\"T_60dfa_row6_col7\" class=\"data row6 col7\" >96.252927</td>\n",
       "      <td id=\"T_60dfa_row6_col8\" class=\"data row6 col8\" >89.227166</td>\n",
       "    </tr>\n",
       "    <tr>\n",
       "      <th id=\"T_60dfa_level0_row7\" class=\"row_heading level0 row7\" >Huang High School</th>\n",
       "      <td id=\"T_60dfa_row7_col0\" class=\"data row7 col0\" >District</td>\n",
       "      <td id=\"T_60dfa_row7_col1\" class=\"data row7 col1\" >2,917</td>\n",
       "      <td id=\"T_60dfa_row7_col2\" class=\"data row7 col2\" >$1,910,635.00</td>\n",
       "      <td id=\"T_60dfa_row7_col3\" class=\"data row7 col3\" >$655.00</td>\n",
       "      <td id=\"T_60dfa_row7_col4\" class=\"data row7 col4\" >76.629414</td>\n",
       "      <td id=\"T_60dfa_row7_col5\" class=\"data row7 col5\" >81.182722</td>\n",
       "      <td id=\"T_60dfa_row7_col6\" class=\"data row7 col6\" >65.683922</td>\n",
       "      <td id=\"T_60dfa_row7_col7\" class=\"data row7 col7\" >81.316421</td>\n",
       "      <td id=\"T_60dfa_row7_col8\" class=\"data row7 col8\" >53.513884</td>\n",
       "    </tr>\n",
       "    <tr>\n",
       "      <th id=\"T_60dfa_level0_row8\" class=\"row_heading level0 row8\" >Johnson High School</th>\n",
       "      <td id=\"T_60dfa_row8_col0\" class=\"data row8 col0\" >District</td>\n",
       "      <td id=\"T_60dfa_row8_col1\" class=\"data row8 col1\" >4,761</td>\n",
       "      <td id=\"T_60dfa_row8_col2\" class=\"data row8 col2\" >$3,094,650.00</td>\n",
       "      <td id=\"T_60dfa_row8_col3\" class=\"data row8 col3\" >$650.00</td>\n",
       "      <td id=\"T_60dfa_row8_col4\" class=\"data row8 col4\" >77.072464</td>\n",
       "      <td id=\"T_60dfa_row8_col5\" class=\"data row8 col5\" >80.966394</td>\n",
       "      <td id=\"T_60dfa_row8_col6\" class=\"data row8 col6\" >66.057551</td>\n",
       "      <td id=\"T_60dfa_row8_col7\" class=\"data row8 col7\" >81.222432</td>\n",
       "      <td id=\"T_60dfa_row8_col8\" class=\"data row8 col8\" >53.539172</td>\n",
       "    </tr>\n",
       "    <tr>\n",
       "      <th id=\"T_60dfa_level0_row9\" class=\"row_heading level0 row9\" >Pena High School</th>\n",
       "      <td id=\"T_60dfa_row9_col0\" class=\"data row9 col0\" >Charter</td>\n",
       "      <td id=\"T_60dfa_row9_col1\" class=\"data row9 col1\" >962</td>\n",
       "      <td id=\"T_60dfa_row9_col2\" class=\"data row9 col2\" >$585,858.00</td>\n",
       "      <td id=\"T_60dfa_row9_col3\" class=\"data row9 col3\" >$609.00</td>\n",
       "      <td id=\"T_60dfa_row9_col4\" class=\"data row9 col4\" >83.839917</td>\n",
       "      <td id=\"T_60dfa_row9_col5\" class=\"data row9 col5\" >84.044699</td>\n",
       "      <td id=\"T_60dfa_row9_col6\" class=\"data row9 col6\" >94.594595</td>\n",
       "      <td id=\"T_60dfa_row9_col7\" class=\"data row9 col7\" >95.945946</td>\n",
       "      <td id=\"T_60dfa_row9_col8\" class=\"data row9 col8\" >90.540541</td>\n",
       "    </tr>\n",
       "    <tr>\n",
       "      <th id=\"T_60dfa_level0_row10\" class=\"row_heading level0 row10\" >Rodriguez High School</th>\n",
       "      <td id=\"T_60dfa_row10_col0\" class=\"data row10 col0\" >District</td>\n",
       "      <td id=\"T_60dfa_row10_col1\" class=\"data row10 col1\" >3,999</td>\n",
       "      <td id=\"T_60dfa_row10_col2\" class=\"data row10 col2\" >$2,547,363.00</td>\n",
       "      <td id=\"T_60dfa_row10_col3\" class=\"data row10 col3\" >$637.00</td>\n",
       "      <td id=\"T_60dfa_row10_col4\" class=\"data row10 col4\" >76.842711</td>\n",
       "      <td id=\"T_60dfa_row10_col5\" class=\"data row10 col5\" >80.744686</td>\n",
       "      <td id=\"T_60dfa_row10_col6\" class=\"data row10 col6\" >66.366592</td>\n",
       "      <td id=\"T_60dfa_row10_col7\" class=\"data row10 col7\" >80.220055</td>\n",
       "      <td id=\"T_60dfa_row10_col8\" class=\"data row10 col8\" >52.988247</td>\n",
       "    </tr>\n",
       "    <tr>\n",
       "      <th id=\"T_60dfa_level0_row11\" class=\"row_heading level0 row11\" >Shelton High School</th>\n",
       "      <td id=\"T_60dfa_row11_col0\" class=\"data row11 col0\" >Charter</td>\n",
       "      <td id=\"T_60dfa_row11_col1\" class=\"data row11 col1\" >1,761</td>\n",
       "      <td id=\"T_60dfa_row11_col2\" class=\"data row11 col2\" >$1,056,600.00</td>\n",
       "      <td id=\"T_60dfa_row11_col3\" class=\"data row11 col3\" >$600.00</td>\n",
       "      <td id=\"T_60dfa_row11_col4\" class=\"data row11 col4\" >83.359455</td>\n",
       "      <td id=\"T_60dfa_row11_col5\" class=\"data row11 col5\" >83.725724</td>\n",
       "      <td id=\"T_60dfa_row11_col6\" class=\"data row11 col6\" >93.867121</td>\n",
       "      <td id=\"T_60dfa_row11_col7\" class=\"data row11 col7\" >95.854628</td>\n",
       "      <td id=\"T_60dfa_row11_col8\" class=\"data row11 col8\" >89.892107</td>\n",
       "    </tr>\n",
       "    <tr>\n",
       "      <th id=\"T_60dfa_level0_row12\" class=\"row_heading level0 row12\" >Thomas High School</th>\n",
       "      <td id=\"T_60dfa_row12_col0\" class=\"data row12 col0\" >Charter</td>\n",
       "      <td id=\"T_60dfa_row12_col1\" class=\"data row12 col1\" >1,635</td>\n",
       "      <td id=\"T_60dfa_row12_col2\" class=\"data row12 col2\" >$1,043,130.00</td>\n",
       "      <td id=\"T_60dfa_row12_col3\" class=\"data row12 col3\" >$638.00</td>\n",
       "      <td id=\"T_60dfa_row12_col4\" class=\"data row12 col4\" >83.418349</td>\n",
       "      <td id=\"T_60dfa_row12_col5\" class=\"data row12 col5\" >83.848930</td>\n",
       "      <td id=\"T_60dfa_row12_col6\" class=\"data row12 col6\" >93.272171</td>\n",
       "      <td id=\"T_60dfa_row12_col7\" class=\"data row12 col7\" >97.308869</td>\n",
       "      <td id=\"T_60dfa_row12_col8\" class=\"data row12 col8\" >90.948012</td>\n",
       "    </tr>\n",
       "    <tr>\n",
       "      <th id=\"T_60dfa_level0_row13\" class=\"row_heading level0 row13\" >Wilson High School</th>\n",
       "      <td id=\"T_60dfa_row13_col0\" class=\"data row13 col0\" >Charter</td>\n",
       "      <td id=\"T_60dfa_row13_col1\" class=\"data row13 col1\" >2,283</td>\n",
       "      <td id=\"T_60dfa_row13_col2\" class=\"data row13 col2\" >$1,319,574.00</td>\n",
       "      <td id=\"T_60dfa_row13_col3\" class=\"data row13 col3\" >$578.00</td>\n",
       "      <td id=\"T_60dfa_row13_col4\" class=\"data row13 col4\" >83.274201</td>\n",
       "      <td id=\"T_60dfa_row13_col5\" class=\"data row13 col5\" >83.989488</td>\n",
       "      <td id=\"T_60dfa_row13_col6\" class=\"data row13 col6\" >93.867718</td>\n",
       "      <td id=\"T_60dfa_row13_col7\" class=\"data row13 col7\" >96.539641</td>\n",
       "      <td id=\"T_60dfa_row13_col8\" class=\"data row13 col8\" >90.582567</td>\n",
       "    </tr>\n",
       "    <tr>\n",
       "      <th id=\"T_60dfa_level0_row14\" class=\"row_heading level0 row14\" >Wright High School</th>\n",
       "      <td id=\"T_60dfa_row14_col0\" class=\"data row14 col0\" >Charter</td>\n",
       "      <td id=\"T_60dfa_row14_col1\" class=\"data row14 col1\" >1,800</td>\n",
       "      <td id=\"T_60dfa_row14_col2\" class=\"data row14 col2\" >$1,049,400.00</td>\n",
       "      <td id=\"T_60dfa_row14_col3\" class=\"data row14 col3\" >$583.00</td>\n",
       "      <td id=\"T_60dfa_row14_col4\" class=\"data row14 col4\" >83.682222</td>\n",
       "      <td id=\"T_60dfa_row14_col5\" class=\"data row14 col5\" >83.955000</td>\n",
       "      <td id=\"T_60dfa_row14_col6\" class=\"data row14 col6\" >93.333333</td>\n",
       "      <td id=\"T_60dfa_row14_col7\" class=\"data row14 col7\" >96.611111</td>\n",
       "      <td id=\"T_60dfa_row14_col8\" class=\"data row14 col8\" >90.333333</td>\n",
       "    </tr>\n",
       "  </tbody>\n",
       "</table>\n"
      ],
      "text/plain": [
       "<pandas.io.formats.style.Styler at 0x2423c977250>"
      ]
     },
     "execution_count": 119,
     "metadata": {},
     "output_type": "execute_result"
    }
   ],
   "source": [
    "#School_Summary = {\"School Type\": school_type, \"Total Students\": f\"{Stu_Total:,}\",\"Total Budget\": f\"${School_budget:,.2f}\",\n",
    "                  #\"Per Student Budget\": f\"${budg_per_student}\",\"Average Math Score\": avg_math_school, \n",
    "                  #\"Average Reading Score\": avg_read_school,\"% Passing Math\": perc_school_math_pass, \n",
    "                  #\"% Passing Reading\": perc_school_read_pass, \"% Overall Passing\": perc_overall_pass_school}\n",
    "School_Summary = pd.DataFrame({\"School Type\": school_type, \"Total Students\": Stu_Total,\"Total Budget\": School_budget,\n",
    "                  \"Per Student Budget\": budg_per_student,\"Average Math Score\": avg_math_school, \n",
    "                  \"Average Reading Score\": avg_read_school,\"% Passing Math\": perc_school_math_pass, \n",
    "                  \"% Passing Reading\": perc_school_read_pass, \"% Overall Passing\": perc_overall_pass_school})\n",
    "\n",
    "School_Summary.style.format({\"School Type\": \"{:}\", \"Total Students\": \"{:,}\",\"Total Budget\": \"${:,.2f}\",\n",
    "                  \"Per Student Budget\": \"${:,.2f}\",\"Average Math Score\": \"{:6f}\", \n",
    "                  \"Average Reading Score\": \"{:6f}\",\"% Passing Math\": \"{:6f}\", \n",
    "                  \"% Passing Reading\": \"{:6f}\", \"% Overall Passing\": \"{:6f}\"})"
   ]
  },
  {
   "cell_type": "markdown",
   "metadata": {},
   "source": [
    "## Top Performing Schools (By % Overall Passing)"
   ]
  },
  {
   "cell_type": "markdown",
   "metadata": {},
   "source": [
    "* Sort and display the top five performing schools by % overall passing."
   ]
  },
  {
   "cell_type": "code",
   "execution_count": 120,
   "metadata": {},
   "outputs": [],
   "source": [
    "Top_School = School_Summary.sort_values(by=[\"% Overall Passing\"], ascending=False)\n",
    "#Top_School.head()"
   ]
  },
  {
   "cell_type": "markdown",
   "metadata": {},
   "source": [
    "## Bottom Performing Schools (By % Overall Passing)"
   ]
  },
  {
   "cell_type": "markdown",
   "metadata": {},
   "source": [
    "* Sort and display the five worst-performing schools by % overall passing."
   ]
  },
  {
   "cell_type": "code",
   "execution_count": 121,
   "metadata": {},
   "outputs": [],
   "source": [
    "Bottom_School = School_Summary.sort_values(by=[\"% Overall Passing\"], ascending=True)\n",
    "\n",
    "#Bottom_School.head()"
   ]
  },
  {
   "cell_type": "markdown",
   "metadata": {
    "collapsed": true
   },
   "source": [
    "## Math Scores by Grade"
   ]
  },
  {
   "cell_type": "markdown",
   "metadata": {},
   "source": [
    "* Create a table that lists the average Reading Score for students of each grade level (9th, 10th, 11th, 12th) at each school.\n",
    "\n",
    "  * Create a pandas series for each grade. Hint: use a conditional statement.\n",
    "  \n",
    "  * Group each series by school\n",
    "  \n",
    "  * Combine the series into a dataframe\n",
    "  \n",
    "  * Optional: give the displayed data cleaner formatting"
   ]
  },
  {
   "cell_type": "code",
   "execution_count": 239,
   "metadata": {},
   "outputs": [],
   "source": [
    "nineth_math = student_data[student_data[\"grade\"] == \"9th\"].groupby(\"school_name\")[\"math_score\"].mean()\n",
    "tenth_math = student_data[student_data[\"grade\"] == \"10th\"].groupby(\"school_name\")[\"math_score\"].mean()\n",
    "eleventh_math = student_data[student_data[\"grade\"] == \"11th\"].groupby(\"school_name\")[\"math_score\"].mean()\n",
    "twelfth_math = student_data[student_data[\"grade\"] == \"12th\"].groupby(\"school_name\")[\"math_score\"].mean()\n",
    "\n",
    "Grade_math_scores = pd.DataFrame({\"9th\": nineth_math, \"10th\": tenth_math, \"11th\": eleventh_math, \"12th\": twelfth_math})\n",
    "\n",
    "#Grade_math_scores"
   ]
  },
  {
   "cell_type": "markdown",
   "metadata": {},
   "source": [
    "## Reading Score by Grade "
   ]
  },
  {
   "cell_type": "markdown",
   "metadata": {},
   "source": [
    "* Perform the same operations as above for reading scores"
   ]
  },
  {
   "cell_type": "code",
   "execution_count": 123,
   "metadata": {},
   "outputs": [],
   "source": [
    "nineth_read = student_data[student_data[\"grade\"] == \"9th\"].groupby(\"school_name\")[\"reading_score\"].mean()\n",
    "tenth_read = student_data[student_data[\"grade\"] == \"10th\"].groupby(\"school_name\")[\"reading_score\"].mean()\n",
    "eleventh_read = student_data[student_data[\"grade\"] == \"11th\"].groupby(\"school_name\")[\"reading_score\"].mean()\n",
    "twelfth_read = student_data[student_data[\"grade\"] == \"12th\"].groupby(\"school_name\")[\"reading_score\"].mean()\n",
    "\n",
    "Grade_read_scores = pd.DataFrame({\"9th\": nineth_read, \"10th\": tenth_read, \"11th\": eleventh_read, \"12th\": twelfth_read})\n",
    "\n",
    "#Grade_read_scores"
   ]
  },
  {
   "cell_type": "code",
   "execution_count": null,
   "metadata": {},
   "outputs": [],
   "source": []
  },
  {
   "cell_type": "markdown",
   "metadata": {},
   "source": [
    "## Scores by School Spending"
   ]
  },
  {
   "cell_type": "markdown",
   "metadata": {},
   "source": [
    "* Create a table that breaks down school performances based on average Spending Ranges (Per Student). Use 4 reasonable bins to group school spending. Include in the table each of the following:\n",
    "  * Average Math Score\n",
    "  * Average Reading Score\n",
    "  * % Passing Math\n",
    "  * % Passing Reading\n",
    "  * Overall Passing Rate (Average of the above two)"
   ]
  },
  {
   "cell_type": "code",
   "execution_count": 146,
   "metadata": {},
   "outputs": [],
   "source": [
    "#create bins\n",
    "bins_spend = [0, 584, 629, 644, 680]\n",
    "\n",
    "# Create the names for the five bins\n",
    "bins_spend_names = [\"<$585\", \"$585-630\",\"$630-645\",\"$645-680\"]"
   ]
  },
  {
   "cell_type": "code",
   "execution_count": 147,
   "metadata": {},
   "outputs": [],
   "source": [
    "school_data_complete[\"spend\"] = pd.cut(school_data_complete[\"Budget\"]/school_data_complete[\"Size\"], \n",
    "                                     bins_spend, labels=bins_spend_names)"
   ]
  },
  {
   "cell_type": "code",
   "execution_count": 148,
   "metadata": {},
   "outputs": [],
   "source": [
    "\n",
    "by_spending = school_data_complete.groupby([\"spend\"])\n",
    "\n",
    "spend_avg_math = by_spending[\"Math Score\"].mean()\n",
    "spend_avg_read = by_spending[\"Reading Score\"].mean()\n",
    "\n"
   ]
  },
  {
   "cell_type": "code",
   "execution_count": 149,
   "metadata": {},
   "outputs": [],
   "source": [
    "spend_math_pass = school_data_complete[school_data_complete[\"Math Score\"] >= 70].groupby(\"spend\")[\"Student ID\"].count()\n",
    "\n",
    "perc_spend_math_pass = spend_math_pass/by_spending[\"Student ID\"].count()*100"
   ]
  },
  {
   "cell_type": "code",
   "execution_count": 150,
   "metadata": {},
   "outputs": [],
   "source": [
    "spend_read_pass = school_data_complete[school_data_complete[\"Reading Score\"] >= 70].groupby(\"spend\")[\"Student ID\"].count()\n",
    "\n",
    "perc_spend_read_pass = spend_read_pass/by_spending[\"Student ID\"].count()*100"
   ]
  },
  {
   "cell_type": "code",
   "execution_count": 151,
   "metadata": {},
   "outputs": [],
   "source": [
    "spend_all_pass = school_data_complete[(school_data_complete[\"Reading Score\"] >= 70) & \n",
    "                                      (school_data_complete[\"Math Score\"] >= 70)].groupby(\"spend\")[\"Student ID\"].count()\n",
    "\n",
    "perc_spend_all_pass = spend_all_pass/by_spending[\"Student ID\"].count()*100"
   ]
  },
  {
   "cell_type": "code",
   "execution_count": 163,
   "metadata": {},
   "outputs": [
    {
     "data": {
      "text/html": [
       "<style type=\"text/css\">\n",
       "</style>\n",
       "<table id=\"T_d0085\">\n",
       "  <thead>\n",
       "    <tr>\n",
       "      <th class=\"blank level0\" >&nbsp;</th>\n",
       "      <th id=\"T_d0085_level0_col0\" class=\"col_heading level0 col0\" >Average Math Score</th>\n",
       "      <th id=\"T_d0085_level0_col1\" class=\"col_heading level0 col1\" >Average Reading Score</th>\n",
       "      <th id=\"T_d0085_level0_col2\" class=\"col_heading level0 col2\" >% Passing Math</th>\n",
       "      <th id=\"T_d0085_level0_col3\" class=\"col_heading level0 col3\" >% Passing Reading</th>\n",
       "      <th id=\"T_d0085_level0_col4\" class=\"col_heading level0 col4\" >% Overall Passing</th>\n",
       "    </tr>\n",
       "    <tr>\n",
       "      <th class=\"index_name level0\" >Spending Ranges (Per Student)</th>\n",
       "      <th class=\"blank col0\" >&nbsp;</th>\n",
       "      <th class=\"blank col1\" >&nbsp;</th>\n",
       "      <th class=\"blank col2\" >&nbsp;</th>\n",
       "      <th class=\"blank col3\" >&nbsp;</th>\n",
       "      <th class=\"blank col4\" >&nbsp;</th>\n",
       "    </tr>\n",
       "  </thead>\n",
       "  <tbody>\n",
       "    <tr>\n",
       "      <th id=\"T_d0085_level0_row0\" class=\"row_heading level0 row0\" ><$585</th>\n",
       "      <td id=\"T_d0085_row0_col0\" class=\"data row0 col0\" >83.36</td>\n",
       "      <td id=\"T_d0085_row0_col1\" class=\"data row0 col1\" >83.96</td>\n",
       "      <td id=\"T_d0085_row0_col2\" class=\"data row0 col2\" >93.70</td>\n",
       "      <td id=\"T_d0085_row0_col3\" class=\"data row0 col3\" >96.69</td>\n",
       "      <td id=\"T_d0085_row0_col4\" class=\"data row0 col4\" >90.64</td>\n",
       "    </tr>\n",
       "    <tr>\n",
       "      <th id=\"T_d0085_level0_row1\" class=\"row_heading level0 row1\" >$585-630</th>\n",
       "      <td id=\"T_d0085_row1_col0\" class=\"data row1 col0\" >79.98</td>\n",
       "      <td id=\"T_d0085_row1_col1\" class=\"data row1 col1\" >82.31</td>\n",
       "      <td id=\"T_d0085_row1_col2\" class=\"data row1 col2\" >79.11</td>\n",
       "      <td id=\"T_d0085_row1_col3\" class=\"data row1 col3\" >88.51</td>\n",
       "      <td id=\"T_d0085_row1_col4\" class=\"data row1 col4\" >70.94</td>\n",
       "    </tr>\n",
       "    <tr>\n",
       "      <th id=\"T_d0085_level0_row2\" class=\"row_heading level0 row2\" >$630-645</th>\n",
       "      <td id=\"T_d0085_row2_col0\" class=\"data row2 col0\" >77.82</td>\n",
       "      <td id=\"T_d0085_row2_col1\" class=\"data row2 col1\" >81.30</td>\n",
       "      <td id=\"T_d0085_row2_col2\" class=\"data row2 col2\" >70.62</td>\n",
       "      <td id=\"T_d0085_row2_col3\" class=\"data row2 col3\" >82.60</td>\n",
       "      <td id=\"T_d0085_row2_col4\" class=\"data row2 col4\" >58.84</td>\n",
       "    </tr>\n",
       "    <tr>\n",
       "      <th id=\"T_d0085_level0_row3\" class=\"row_heading level0 row3\" >$645-680</th>\n",
       "      <td id=\"T_d0085_row3_col0\" class=\"data row3 col0\" >77.05</td>\n",
       "      <td id=\"T_d0085_row3_col1\" class=\"data row3 col1\" >81.01</td>\n",
       "      <td id=\"T_d0085_row3_col2\" class=\"data row3 col2\" >66.23</td>\n",
       "      <td id=\"T_d0085_row3_col3\" class=\"data row3 col3\" >81.11</td>\n",
       "      <td id=\"T_d0085_row3_col4\" class=\"data row3 col4\" >53.53</td>\n",
       "    </tr>\n",
       "  </tbody>\n",
       "</table>\n"
      ],
      "text/plain": [
       "<pandas.io.formats.style.Styler at 0x2423df7f160>"
      ]
     },
     "execution_count": 163,
     "metadata": {},
     "output_type": "execute_result"
    }
   ],
   "source": [
    "by_spending_df = pd.DataFrame({\"Average Math Score\": spend_avg_math, \"Average Reading Score\": spend_avg_read,\n",
    "                                \"% Passing Math\": perc_spend_math_pass, \"% Passing Reading\": perc_spend_read_pass,\n",
    "                                \"% Overall Passing\": perc_spend_all_pass})\n",
    "by_spending_df.index.name = \"Spending Ranges (Per Student)\"\n",
    "by_spending_df.style.format({\"Average Math Score\": \"{:.2f}\", \"Average Reading Score\": \"{:.2f}\",\n",
    "                                \"% Passing Math\": \"{:.2f}\", \"% Passing Reading\": \"{:.2f}\",\n",
    "                                \"% Overall Passing\": \"{:.2f}\"})\n",
    "\n"
   ]
  },
  {
   "cell_type": "code",
   "execution_count": 18,
   "metadata": {},
   "outputs": [
    {
     "data": {
      "text/html": [
       "<div>\n",
       "<style scoped>\n",
       "    .dataframe tbody tr th:only-of-type {\n",
       "        vertical-align: middle;\n",
       "    }\n",
       "\n",
       "    .dataframe tbody tr th {\n",
       "        vertical-align: top;\n",
       "    }\n",
       "\n",
       "    .dataframe thead th {\n",
       "        text-align: right;\n",
       "    }\n",
       "</style>\n",
       "<table border=\"1\" class=\"dataframe\">\n",
       "  <thead>\n",
       "    <tr style=\"text-align: right;\">\n",
       "      <th></th>\n",
       "      <th>Average Math Score</th>\n",
       "      <th>Average Reading Score</th>\n",
       "      <th>% Passing Math</th>\n",
       "      <th>% Passing Reading</th>\n",
       "      <th>% Overall Passing</th>\n",
       "    </tr>\n",
       "    <tr>\n",
       "      <th>Spending Ranges (Per Student)</th>\n",
       "      <th></th>\n",
       "      <th></th>\n",
       "      <th></th>\n",
       "      <th></th>\n",
       "      <th></th>\n",
       "    </tr>\n",
       "  </thead>\n",
       "  <tbody>\n",
       "    <tr>\n",
       "      <th>&lt;$585</th>\n",
       "      <td>83.46</td>\n",
       "      <td>83.93</td>\n",
       "      <td>93.46</td>\n",
       "      <td>96.61</td>\n",
       "      <td>90.37</td>\n",
       "    </tr>\n",
       "    <tr>\n",
       "      <th>$585-630</th>\n",
       "      <td>81.90</td>\n",
       "      <td>83.16</td>\n",
       "      <td>87.13</td>\n",
       "      <td>92.72</td>\n",
       "      <td>81.42</td>\n",
       "    </tr>\n",
       "    <tr>\n",
       "      <th>$630-645</th>\n",
       "      <td>78.52</td>\n",
       "      <td>81.62</td>\n",
       "      <td>73.48</td>\n",
       "      <td>84.39</td>\n",
       "      <td>62.86</td>\n",
       "    </tr>\n",
       "    <tr>\n",
       "      <th>$645-680</th>\n",
       "      <td>77.00</td>\n",
       "      <td>81.03</td>\n",
       "      <td>66.16</td>\n",
       "      <td>81.13</td>\n",
       "      <td>53.53</td>\n",
       "    </tr>\n",
       "  </tbody>\n",
       "</table>\n",
       "</div>"
      ],
      "text/plain": [
       "                               Average Math Score  Average Reading Score  \\\n",
       "Spending Ranges (Per Student)                                              \n",
       "<$585                                       83.46                  83.93   \n",
       "$585-630                                    81.90                  83.16   \n",
       "$630-645                                    78.52                  81.62   \n",
       "$645-680                                    77.00                  81.03   \n",
       "\n",
       "                               % Passing Math  % Passing Reading  \\\n",
       "Spending Ranges (Per Student)                                      \n",
       "<$585                                   93.46              96.61   \n",
       "$585-630                                87.13              92.72   \n",
       "$630-645                                73.48              84.39   \n",
       "$645-680                                66.16              81.13   \n",
       "\n",
       "                               % Overall Passing  \n",
       "Spending Ranges (Per Student)                     \n",
       "<$585                                      90.37  \n",
       "$585-630                                   81.42  \n",
       "$630-645                                   62.86  \n",
       "$645-680                                   53.53  "
      ]
     },
     "execution_count": 18,
     "metadata": {},
     "output_type": "execute_result"
    }
   ],
   "source": []
  },
  {
   "cell_type": "markdown",
   "metadata": {},
   "source": [
    "## Scores by School Size"
   ]
  },
  {
   "cell_type": "markdown",
   "metadata": {},
   "source": [
    "* Perform the same operations as above, based on school size."
   ]
  },
  {
   "cell_type": "code",
   "execution_count": 196,
   "metadata": {},
   "outputs": [],
   "source": [
    "#create bins\n",
    "bins_size = [0, 1000, 1999, 5000]\n",
    "\n",
    "# Create the names for the five bins\n",
    "bins_size_names = [\"Small (<1000)\", \"Medium (1000-2000)\",\"Large (2000-5000)\"]"
   ]
  },
  {
   "cell_type": "code",
   "execution_count": 197,
   "metadata": {},
   "outputs": [],
   "source": [
    "school_data_complete[\"sizes\"] = pd.cut(school_data_complete[\"Size\"], bins_size, labels=bins_size_names)\n",
    "\n"
   ]
  },
  {
   "cell_type": "code",
   "execution_count": 198,
   "metadata": {},
   "outputs": [],
   "source": [
    "by_size = school_data_complete.groupby([\"sizes\"])\n",
    "\n",
    "size_avg_math = by_size[\"Math Score\"].mean()\n",
    "size_avg_read = by_size[\"Reading Score\"].mean()"
   ]
  },
  {
   "cell_type": "code",
   "execution_count": 200,
   "metadata": {},
   "outputs": [
    {
     "data": {
      "text/plain": [
       "sizes\n",
       "Small (<1000)         93.952484\n",
       "Medium (1000-2000)    93.616522\n",
       "Large (2000-5000)     68.652380\n",
       "Name: Student ID, dtype: float64"
      ]
     },
     "execution_count": 200,
     "metadata": {},
     "output_type": "execute_result"
    }
   ],
   "source": [
    "size_math_pass = school_data_complete[school_data_complete[\"Math Score\"] >= 70].groupby(\"sizes\")[\"Student ID\"].count()\n",
    "\n",
    "perc_size_math_pass = size_math_pass/by_size[\"Student ID\"].count()*100\n",
    "\n",
    "perc_size_math_pass"
   ]
  },
  {
   "cell_type": "code",
   "execution_count": null,
   "metadata": {},
   "outputs": [],
   "source": []
  },
  {
   "cell_type": "code",
   "execution_count": null,
   "metadata": {},
   "outputs": [],
   "source": []
  },
  {
   "cell_type": "code",
   "execution_count": null,
   "metadata": {},
   "outputs": [],
   "source": []
  },
  {
   "cell_type": "code",
   "execution_count": 22,
   "metadata": {
    "scrolled": true
   },
   "outputs": [
    {
     "data": {
      "text/html": [
       "<div>\n",
       "<style scoped>\n",
       "    .dataframe tbody tr th:only-of-type {\n",
       "        vertical-align: middle;\n",
       "    }\n",
       "\n",
       "    .dataframe tbody tr th {\n",
       "        vertical-align: top;\n",
       "    }\n",
       "\n",
       "    .dataframe thead th {\n",
       "        text-align: right;\n",
       "    }\n",
       "</style>\n",
       "<table border=\"1\" class=\"dataframe\">\n",
       "  <thead>\n",
       "    <tr style=\"text-align: right;\">\n",
       "      <th></th>\n",
       "      <th>Average Math Score</th>\n",
       "      <th>Average Reading Score</th>\n",
       "      <th>% Passing Math</th>\n",
       "      <th>% Passing Reading</th>\n",
       "      <th>% Overall Passing</th>\n",
       "    </tr>\n",
       "    <tr>\n",
       "      <th>School Size</th>\n",
       "      <th></th>\n",
       "      <th></th>\n",
       "      <th></th>\n",
       "      <th></th>\n",
       "      <th></th>\n",
       "    </tr>\n",
       "  </thead>\n",
       "  <tbody>\n",
       "    <tr>\n",
       "      <th>Small (&lt;1000)</th>\n",
       "      <td>83.821598</td>\n",
       "      <td>83.929843</td>\n",
       "      <td>93.550225</td>\n",
       "      <td>96.099437</td>\n",
       "      <td>89.883853</td>\n",
       "    </tr>\n",
       "    <tr>\n",
       "      <th>Medium (1000-2000)</th>\n",
       "      <td>83.374684</td>\n",
       "      <td>83.864438</td>\n",
       "      <td>93.599695</td>\n",
       "      <td>96.790680</td>\n",
       "      <td>90.621535</td>\n",
       "    </tr>\n",
       "    <tr>\n",
       "      <th>Large (2000-5000)</th>\n",
       "      <td>77.746417</td>\n",
       "      <td>81.344493</td>\n",
       "      <td>69.963361</td>\n",
       "      <td>82.766634</td>\n",
       "      <td>58.286003</td>\n",
       "    </tr>\n",
       "  </tbody>\n",
       "</table>\n",
       "</div>"
      ],
      "text/plain": [
       "                    Average Math Score  Average Reading Score  % Passing Math  \\\n",
       "School Size                                                                     \n",
       "Small (<1000)                83.821598              83.929843       93.550225   \n",
       "Medium (1000-2000)           83.374684              83.864438       93.599695   \n",
       "Large (2000-5000)            77.746417              81.344493       69.963361   \n",
       "\n",
       "                    % Passing Reading  % Overall Passing  \n",
       "School Size                                               \n",
       "Small (<1000)               96.099437          89.883853  \n",
       "Medium (1000-2000)          96.790680          90.621535  \n",
       "Large (2000-5000)           82.766634          58.286003  "
      ]
     },
     "execution_count": 22,
     "metadata": {},
     "output_type": "execute_result"
    }
   ],
   "source": []
  },
  {
   "cell_type": "markdown",
   "metadata": {},
   "source": [
    "## Scores by School Type"
   ]
  },
  {
   "cell_type": "markdown",
   "metadata": {},
   "source": [
    "* Perform the same operations as above, based on school type"
   ]
  },
  {
   "cell_type": "code",
   "execution_count": 24,
   "metadata": {},
   "outputs": [
    {
     "data": {
      "text/html": [
       "<div>\n",
       "<style scoped>\n",
       "    .dataframe tbody tr th:only-of-type {\n",
       "        vertical-align: middle;\n",
       "    }\n",
       "\n",
       "    .dataframe tbody tr th {\n",
       "        vertical-align: top;\n",
       "    }\n",
       "\n",
       "    .dataframe thead th {\n",
       "        text-align: right;\n",
       "    }\n",
       "</style>\n",
       "<table border=\"1\" class=\"dataframe\">\n",
       "  <thead>\n",
       "    <tr style=\"text-align: right;\">\n",
       "      <th></th>\n",
       "      <th>Average Math Score</th>\n",
       "      <th>Average Reading Score</th>\n",
       "      <th>% Passing Math</th>\n",
       "      <th>% Passing Reading</th>\n",
       "      <th>% Overall Passing</th>\n",
       "    </tr>\n",
       "    <tr>\n",
       "      <th>School Type</th>\n",
       "      <th></th>\n",
       "      <th></th>\n",
       "      <th></th>\n",
       "      <th></th>\n",
       "      <th></th>\n",
       "    </tr>\n",
       "  </thead>\n",
       "  <tbody>\n",
       "    <tr>\n",
       "      <th>Charter</th>\n",
       "      <td>83.473852</td>\n",
       "      <td>83.896421</td>\n",
       "      <td>93.620830</td>\n",
       "      <td>96.586489</td>\n",
       "      <td>90.432244</td>\n",
       "    </tr>\n",
       "    <tr>\n",
       "      <th>District</th>\n",
       "      <td>76.956733</td>\n",
       "      <td>80.966636</td>\n",
       "      <td>66.548453</td>\n",
       "      <td>80.799062</td>\n",
       "      <td>53.672208</td>\n",
       "    </tr>\n",
       "  </tbody>\n",
       "</table>\n",
       "</div>"
      ],
      "text/plain": [
       "             Average Math Score  Average Reading Score  % Passing Math  \\\n",
       "School Type                                                              \n",
       "Charter               83.473852              83.896421       93.620830   \n",
       "District              76.956733              80.966636       66.548453   \n",
       "\n",
       "             % Passing Reading  % Overall Passing  \n",
       "School Type                                        \n",
       "Charter              96.586489          90.432244  \n",
       "District             80.799062          53.672208  "
      ]
     },
     "execution_count": 24,
     "metadata": {},
     "output_type": "execute_result"
    }
   ],
   "source": []
  },
  {
   "cell_type": "code",
   "execution_count": null,
   "metadata": {},
   "outputs": [],
   "source": []
  }
 ],
 "metadata": {
  "anaconda-cloud": {},
  "kernel_info": {
   "name": "python3"
  },
  "kernelspec": {
   "display_name": "Python 3 (ipykernel)",
   "language": "python",
   "name": "python3"
  },
  "language_info": {
   "codemirror_mode": {
    "name": "ipython",
    "version": 3
   },
   "file_extension": ".py",
   "mimetype": "text/x-python",
   "name": "python",
   "nbconvert_exporter": "python",
   "pygments_lexer": "ipython3",
   "version": "3.9.12"
  },
  "latex_envs": {
   "LaTeX_envs_menu_present": true,
   "autoclose": false,
   "autocomplete": true,
   "bibliofile": "biblio.bib",
   "cite_by": "apalike",
   "current_citInitial": 1,
   "eqLabelWithNumbers": true,
   "eqNumInitial": 1,
   "hotkeys": {
    "equation": "Ctrl-E",
    "itemize": "Ctrl-I"
   },
   "labels_anchors": false,
   "latex_user_defs": false,
   "report_style_numbering": false,
   "user_envs_cfg": false
  },
  "nteract": {
   "version": "0.8.4"
  }
 },
 "nbformat": 4,
 "nbformat_minor": 1
}
